{
 "cells": [
  {
   "cell_type": "markdown",
   "metadata": {},
   "source": [
    "# ROOT CINT/CLING basics (C++)\n",
    "\n",
    "## Objectives:\n",
    "* How to open a TFile?\n",
    "* How to inspect it?\n",
    "* How to create/draw  histogram (1D/2D)?\n",
    "* Loop on TTree entries\n",
    "* Fit function\n",
    "\n",
    "---"
   ]
  },
  {
   "cell_type": "markdown",
   "metadata": {},
   "source": [
    "In this notebook \";\" are compulsory at the end of line (in case of multiple lines)."
   ]
  },
  {
   "cell_type": "markdown",
   "metadata": {},
   "source": [
    "## Open a TFile"
   ]
  },
  {
   "cell_type": "code",
   "execution_count": null,
   "metadata": {},
   "outputs": [],
   "source": [
    "TFile *f1 = new TFile(\"data/mc_147771.Zmumu.root\")"
   ]
  },
  {
   "cell_type": "code",
   "execution_count": null,
   "metadata": {},
   "outputs": [],
   "source": [
    "%jsroot on"
   ]
  },
  {
   "cell_type": "code",
   "execution_count": null,
   "metadata": {},
   "outputs": [],
   "source": [
    "f1->ls()"
   ]
  },
  {
   "cell_type": "markdown",
   "metadata": {},
   "source": [
    "descend in the TTree.\n",
    "mini is already a pointer to a TTree you don't need to execute the next cell"
   ]
  },
  {
   "cell_type": "code",
   "execution_count": null,
   "metadata": {},
   "outputs": [],
   "source": [
    "TTree *t1 = (TTree*)f1->Get(\"mini\");"
   ]
  },
  {
   "cell_type": "markdown",
   "metadata": {},
   "source": [
    "## Inspect the \"mini\" TTree"
   ]
  },
  {
   "cell_type": "code",
   "execution_count": null,
   "metadata": {},
   "outputs": [],
   "source": [
    "t1->ls();\n",
    "t1->Print()"
   ]
  },
  {
   "cell_type": "markdown",
   "metadata": {},
   "source": [
    "How many events are stored in the ntuple?\n",
    "We have in the ntuple primitive types like   **eventNumber/I** \n",
    "    Which type is it?\n",
    "vectors primitive types like **lep_pt[lep_n]/F** \n",
    "    Which is the size of the vector?\n",
    "    Which types are the elements of that vector?"
   ]
  },
  {
   "cell_type": "markdown",
   "metadata": {},
   "source": [
    "Scan numerically some elements of the TTree. Don't remove the \"10\" in command line, it will crash the kernel of this notebook\n",
    "Usefull command if you want to have a first look at the variables.\n",
    "Scan(\"variable1:variable2:\",condition, format, number of rows to be printed)"
   ]
  },
  {
   "cell_type": "code",
   "execution_count": null,
   "metadata": {
    "scrolled": true
   },
   "outputs": [],
   "source": [
    "t1->Scan(\"eventNumber:vxp_z:lep_n:lep_pt\",\"\",\"colsize=5 precision=3 col=::20.10:6\",10)"
   ]
  },
  {
   "cell_type": "markdown",
   "metadata": {},
   "source": [
    "Implementing cuts"
   ]
  },
  {
   "cell_type": "code",
   "execution_count": null,
   "metadata": {},
   "outputs": [],
   "source": [
    "t1->Scan(\"eventNumber:vxp_z:lep_n:lep_pt\",\"lep_pt>40000\",\"\",10)"
   ]
  },
  {
   "cell_type": "code",
   "execution_count": null,
   "metadata": {},
   "outputs": [],
   "source": [
    "t1->Scan(\"eventNumber:vxp_z:lep_n:lep_pt\",\"\",\"colsize=5 precision=3\",10)"
   ]
  },
  {
   "cell_type": "code",
   "execution_count": null,
   "metadata": {},
   "outputs": [],
   "source": [
    "t1->Scan(\"eventNumber:vxp_z:lep_n:lep_pt\",\"\",\"colsize=5 precision=3 col=::20.10:6\",10)"
   ]
  },
  {
   "cell_type": "markdown",
   "metadata": {},
   "source": [
    "Now draw the variables\n",
    "Digression: Almost all objects you will create are inheriting from TNamed object. Obscure way to say that when instantiating objects you have:\n",
    "* The variable name (varname) you access your object in C++ (e.g. TCanvas \\*c1)\n",
    "* The name (hname) with which ROOT access the object in its memory (first argument of constructor). You have to use this to retrieve the object from ROOT memory e.g. gDirectory->GetObject(\"c1\"). varname and hname can be the same (like in all the examples I'm using today, confusing, I know) but they indicate different things!\n",
    "* The title of the object (tname: you see it on the TBrowser)"
   ]
  },
  {
   "cell_type": "code",
   "execution_count": null,
   "metadata": {
    "scrolled": false
   },
   "outputs": [],
   "source": [
    "TCanvas *c1 = new TCanvas(\"c1\",\"My New Canvas\",600,600);\n",
    "t1->Draw(\"lep_pt\");\n",
    "c1->Draw()"
   ]
  },
  {
   "cell_type": "markdown",
   "metadata": {},
   "source": [
    "Do you like this plot?"
   ]
  },
  {
   "cell_type": "code",
   "execution_count": null,
   "metadata": {},
   "outputs": [],
   "source": [
    "t1->Draw(\"lep_pt\",\"lep_pt<100000\");\n",
    "c1->Draw()"
   ]
  },
  {
   "cell_type": "code",
   "execution_count": null,
   "metadata": {},
   "outputs": [],
   "source": [
    "t1->Draw(\"lep_pt[0]\",\"lep_pt[0]<100000\");\n",
    "c1->Draw()"
   ]
  },
  {
   "cell_type": "code",
   "execution_count": null,
   "metadata": {},
   "outputs": [],
   "source": [
    "htemp->Draw();\n",
    "c1->Draw()"
   ]
  },
  {
   "cell_type": "markdown",
   "metadata": {},
   "source": [
    "The TTree::Draw result is stored on htemp histogram but you have no control on it (bin size, intervals, etc). You need to create your own histogram."
   ]
  },
  {
   "cell_type": "code",
   "execution_count": null,
   "metadata": {
    "scrolled": true
   },
   "outputs": [],
   "source": [
    "TH1F *h1 = new TH1F(\"h1\",\"Leading Lepton Pt\",100,0,100000);\n",
    "t1->Draw(\"lep_pt[0]>>h1\");\n",
    "h1->Draw();\n",
    "c1->Draw();"
   ]
  },
  {
   "cell_type": "code",
   "execution_count": null,
   "metadata": {},
   "outputs": [],
   "source": [
    "h1->SetLineColor(kRed);\n",
    "h1->SetLineWidth(3);\n",
    "h1->SetLineStyle(2);\n",
    "h1->SetFillStyle(3024);\n",
    "h1->SetFillColor(kPink+10);\n",
    "h1->Draw();\n",
    "c1->Draw();"
   ]
  },
  {
   "cell_type": "code",
   "execution_count": null,
   "metadata": {},
   "outputs": [],
   "source": [
    "TH1F *h2 = new TH1F(\"h2\",\"SubLeading Lepton Pt\",100,0,100000);\n",
    "t1->Draw(\"lep_pt[1]>>h2\");\n",
    "h2->Draw();"
   ]
  },
  {
   "cell_type": "code",
   "execution_count": null,
   "metadata": {},
   "outputs": [],
   "source": [
    "c1->Draw()"
   ]
  },
  {
   "cell_type": "code",
   "execution_count": null,
   "metadata": {},
   "outputs": [],
   "source": [
    "h1->Draw();\n",
    "h2->Draw(\"same\");\n",
    "c1->Draw()"
   ]
  },
  {
   "cell_type": "markdown",
   "metadata": {},
   "source": [
    "Note: If you are using ROOT on terminal you can interact with the plots using the GUI. You can zoom/unzoom axis, logscale, change graphical attributes, fit (cf later) etc..."
   ]
  },
  {
   "cell_type": "markdown",
   "metadata": {},
   "source": [
    "## How to create 2D Histograms"
   ]
  },
  {
   "cell_type": "code",
   "execution_count": null,
   "metadata": {
    "scrolled": true
   },
   "outputs": [],
   "source": [
    "t1->Draw(\"lep_pt[0]:lep_pt[1]\",\"lep_pt[0]<100000 && eventNumber<50000\");\n",
    "c1->Draw()"
   ]
  },
  {
   "cell_type": "markdown",
   "metadata": {},
   "source": [
    "Note: This is called \"scatter plot\". And it plots var1 (y-axis) vs var2 (x-axis). \n",
    "What do you learn from this plot?\n",
    "Let's fill a proper TH2F (2-Dimension hisogram)"
   ]
  },
  {
   "cell_type": "code",
   "execution_count": null,
   "metadata": {
    "scrolled": true
   },
   "outputs": [],
   "source": [
    "TH2F *hpt1vspt2 = new TH2F(\"hpt1vspt2\",\"Leading vs Subleading Lepton Pt\",50,0,100000,50,0,100000);\n",
    "t1->Draw(\"lep_pt[0]:lep_pt[1]>>hpt1vspt2\");\n",
    "hpt1vspt2->Draw();\n",
    "c1->Draw();"
   ]
  },
  {
   "cell_type": "code",
   "execution_count": null,
   "metadata": {},
   "outputs": [],
   "source": [
    "hpt1vspt2->Draw(\"lego\");\n",
    "c1->Draw()"
   ]
  },
  {
   "cell_type": "code",
   "execution_count": null,
   "metadata": {},
   "outputs": [],
   "source": [
    "hpt1vspt2->Draw(\"colz\");\n",
    "c1->Draw()"
   ]
  },
  {
   "cell_type": "markdown",
   "metadata": {},
   "source": [
    "Try other graphical options for TH1::Draw(\"options\"). e,g. CONT, SURF1, BOX etc..."
   ]
  },
  {
   "cell_type": "markdown",
   "metadata": {},
   "source": [
    "In 2D plot usually we want to udnerstand if one variable is a function of the other."
   ]
  },
  {
   "cell_type": "code",
   "execution_count": null,
   "metadata": {},
   "outputs": [],
   "source": [
    "TProfile *hprof = new TProfile(\"hprof\",\"Profile along px\",50,0,100000);\n",
    "hprof = hpt1vspt2->ProfileX();"
   ]
  },
  {
   "cell_type": "code",
   "execution_count": null,
   "metadata": {
    "scrolled": true
   },
   "outputs": [],
   "source": [
    "hprof->Draw();\n",
    "c1->Draw();"
   ]
  },
  {
   "cell_type": "markdown",
   "metadata": {},
   "source": [
    "Try to change option in TProfile constructor (last argument):\n",
    " * ' ' (Default) the bin errors are the standard error on the mean of Y = S(Y)/SQRT(N) where S(Y) is the standard deviation (RMS) of the Y data in the bin and N is the number of bin entries (from TProfile::GetBinEntries(ibin) ) (i.e the errors are the standard error on the bin content of the profile)\n",
    " * 's' Errors are the standard deviation of Y, S(Y)\n",
    " * 'i' Errors are S(Y)/SQRT(N) (standard error on the mean as in the default) The only difference is only when the standard deviation in Y is zero. In this case the error a standard deviation = 1/SQRT(12) is assumed and the error is 1./SQRT(12*N). This approximation assumes that the Y values are integer (e.g. ADC counts) and have an implicit uncertainty of y +/- 0.5. With the assumption that the probability that y takes any value between y-0.5 and y+0.5 is uniform, its standard error is 1/SQRT(12)\n",
    " * 'g' Errors are 1./SQRT(W) where W is the sum of the weights for the bin J W is obtained as from TProfile::GetBinEntries(ibin) This errors corresponds to the standard deviation of weighted mean where each measurement Y is uncorrelated and has an error sigma, which is expressed in the weight used to fill the Profile: w = 1/sigma^2 The resulting error in TProfile is then 1./SQRT( Sum(1./sigma^2) )"
   ]
  },
  {
   "cell_type": "markdown",
   "metadata": {},
   "source": [
    "## Plot non standard variable"
   ]
  },
  {
   "cell_type": "markdown",
   "metadata": {},
   "source": [
    "You need to access the TTree variables and perform some computation"
   ]
  },
  {
   "cell_type": "code",
   "execution_count": null,
   "metadata": {},
   "outputs": [],
   "source": [
    "double mass_mumu;\n",
    "UInt_t          lep_n;\n",
    "Float_t         lep_pt[6];\n",
    "Float_t         lep_eta[6];\n",
    "Float_t         lep_phi[6];\n",
    "Float_t         lep_charge[6];\n",
    "UInt_t          lep_type[6];\n",
    "Float_t         lep_E[6]; \n",
    "\n",
    "\n",
    " t1->SetBranchAddress(\"lep_n\", &lep_n);\n",
    " t1->SetBranchAddress(\"lep_pt\", lep_pt);\n",
    " t1->SetBranchAddress(\"lep_eta\", lep_eta);\n",
    " t1->SetBranchAddress(\"lep_phi\", lep_phi);\n",
    " t1->SetBranchAddress(\"lep_charge\", lep_charge);\n",
    " t1->SetBranchAddress(\"lep_type\", lep_type);\n",
    " t1->SetBranchAddress(\"lep_E\", lep_E);\n",
    "\n",
    "\n",
    "TH1F *h_mumu=new TH1F(\"h_mumu\",\"Invariant mass\",50,50,150);\n",
    "\n",
    "int nEntries = t1 -> GetEntries();\n",
    "if (nEntries>10000) nEntries=10000; //(uncomment if you want to give a quick try)\n",
    "for(int i = 0; i < nEntries; ++i){\n",
    "    t1->GetEntry(i);\n",
    "    if(lep_n>=2){\n",
    "      double px = lep_pt[0]*cos(lep_phi[0])+lep_pt[1]*cos(lep_phi[1]);\n",
    "      double py = lep_pt[0]*sin(lep_phi[0])+lep_pt[1]*sin(lep_phi[1]);\n",
    "      double theta1 = 2*atan(exp(-lep_eta[0]));\n",
    "      double theta2 = 2*atan(exp(-lep_eta[1]));\n",
    "      double pz = lep_pt[0]/tan(theta1)+lep_pt[1]/tan(theta2);\n",
    "      double e = lep_E[0]+lep_E[1];\n",
    "      mass_mumu = e*e-px*px-py*py-pz*pz;\n",
    "      //std::cout << \"mass:\" << mass_mumu << std::endl;\n",
    "      mass_mumu = sqrt(mass_mumu);\n",
    "      h_mumu->Fill(mass_mumu/1000.);\n",
    "    }\n",
    " }\n",
    "\n",
    "c1->cd();\n",
    "h_mumu->Draw();\n",
    "c1->Draw();\n"
   ]
  },
  {
   "cell_type": "markdown",
   "metadata": {},
   "source": [
    "A lot of tedious algebra. Can use TLorentzVector to to invariant mass"
   ]
  },
  {
   "cell_type": "code",
   "execution_count": null,
   "metadata": {},
   "outputs": [],
   "source": [
    "TLorentzVector v1;\n",
    "TLorentzVector v2;\n",
    "TLorentzVector v3;\n"
   ]
  },
  {
   "cell_type": "code",
   "execution_count": null,
   "metadata": {},
   "outputs": [],
   "source": [
    "TH1F *h_mumu_short=new TH1F(\"h_mumu_short\",\"Invariant mass\",50,50,150);\n",
    "nEntries = t1 -> GetEntries();\n",
    "if (nEntries>10000) nEntries=10000; // (uncomment if you want to give a quick try)\n",
    "for(int i = 0; i < nEntries; ++i){\n",
    "    t1->GetEntry(i);\n",
    "    if(lep_n>=2){\n",
    "        v1.SetPtEtaPhiE(lep_pt[0],lep_eta[0],lep_phi[0],lep_E[0]);\n",
    "        v2.SetPtEtaPhiE(lep_pt[1],lep_eta[1],lep_phi[1],lep_E[1]);\n",
    "        v3=v1+v2;\n",
    "      mass_mumu = v3.Mag();\n",
    "      //std::cout << \"mass:\" << mass_mumu << std::endl;\n",
    "      h_mumu_short->Fill(mass_mumu/1000.);\n",
    "    }\n",
    " }\n",
    "\n",
    "c1->cd();\n",
    "h_mumu->Draw();\n",
    "c1->Draw();"
   ]
  },
  {
   "cell_type": "markdown",
   "metadata": {},
   "source": [
    "## Fit histogram\n",
    " First attempt: use \"gaus\" predefined in ROOT\n",
    " Many other functions are predefined in root \n",
    " ### predefined functions\n",
    "* “gaus” Gaussian function with 3 parameters: f(x) = p0*exp(-0.5*((x-p1)/p2)^2)\n",
    "\n",
    "* “expo” An Exponential with 2 parameters: f(x) = exp(p0+p1*x)\n",
    "\n",
    "* “polN” A polynomial of degree N, where N is a number between 0 and 9: f(x) = p0 + p1*x + p2*x2 +...\n",
    "\n",
    "* “chebyshevN” A Chebyshev polynomial of degree N, where N is a number between 0 and 9: f(x) = p0 + p1*x + p2*(2*x2-1) +...\n",
    "\n",
    "* “landau” Landau function with mean and sigma. This function has been adapted from the CERNLIB routine G110 denlan (see TMath::Landau).\n",
    "\n",
    "* \"gausn\" Normalized form of the gaussian function with 3 parameters f(x) = p0*exp(-0.5*((x-p1)/p2)^2)/(p2 *sqrt(2PI))\n",
    "\n",
    "### fit options\n",
    "* “W” Set all weights to 1 for non empty bins; ignore error bars\n",
    "* “WW” Set all weights to 1 including empty bins; ignore error bars\n",
    "* “I” Use integral of function in bin instead of value at bin center\n",
    "* “L” Use log likelihood method (default is chi-square method). To be used when the histogram represents counts\n",
    "* “WL” Weighted log likelihood method. To be used when the histogram has been filled with weights different than 1.\n",
    "* “P” Use Pearson chi-square method, using expected errors instead of the observed one given by TH1::GetBinError (default case). The expected error is instead estimated from the the square-root of the bin function value.\n",
    "* “Q” Quiet mode (minimum printing)\n",
    "* “V” Verbose mode (default is between Q and V)\n",
    "* “S” The result of the fit is returned in the TFitResultPtr.\n",
    "* “E” Perform better errors estimation using the Minos technique\n",
    "* “M” Improve fit results, by using the IMPROVE algorithm of TMinuit.\n",
    "* “R” Use the range specified in the function range\n",
    "* “N” Do not store the graphics function, do not draw\n",
    "* “0” Do not plot the result of the fit. By default the fitted function is drawn unless the option “N” above is specified.\n",
    "* “+” Add this new fitted function to the list of fitted functions (by default, the previous function is deleted and only the last one is kept)\n",
    "* “B”Use this option when you want to fix one or more parameters and the fitting function is a predefined one, like polN, expo, landau, gaus. Note that in case of pre-defined functions some default initial values and limits are set.\n",
    "* “C” In case of linear fitting, don’t calculate the chisquare (saves time).\n",
    "* “F” If fitting a linear function (e.g. polN), switch to use the default minimizer (e.g. Minuit). By default, polN functions are fitted by the linear fitter.\n"
   ]
  },
  {
   "cell_type": "code",
   "execution_count": null,
   "metadata": {
    "scrolled": true
   },
   "outputs": [],
   "source": [
    "TH1F *h_mumu_fit1 = (TH1F*)h_mumu_short->Clone(\"h_mumu_fit1\");\n",
    "h_mumu_fit1->Fit(\"gaus\");\n",
    "h_mumu_fit1->Draw();\n",
    "c1->Draw();\n",
    "    "
   ]
  },
  {
   "cell_type": "code",
   "execution_count": null,
   "metadata": {
    "scrolled": true
   },
   "outputs": [],
   "source": [
    "TH1F *h_mumu_fit2 = (TH1F*)h_mumu_short->Clone(\"h_mumu_fit2\");\n",
    "h_mumu_fit2->Fit(\"gaus\",\"\",\"\",86,96);\n",
    "h_mumu_fit2->Draw();\n",
    "c1->Draw();"
   ]
  },
  {
   "cell_type": "markdown",
   "metadata": {},
   "source": [
    "User defined fit function. In such a way it is easier to get the parameters of the fit of the funtion. "
   ]
  },
  {
   "cell_type": "code",
   "execution_count": null,
   "metadata": {},
   "outputs": [],
   "source": [
    "Double_t mybw(Double_t* x, Double_t* par)\n",
    "{\n",
    "/*Definisco 2/pi */\n",
    "  Double_t arg1 = 2/3.14;\n",
    "/*Definisco i parametri Gamma[1] e Massa[2]*/\n",
    "  Double_t arg2 = par[1]*par[1]*par[2]*par[2];\n",
    "/*Definisco la funzione di Breit-Wigner*/\n",
    "  Double_t arg3 = ((x[0]*x[0]) - (par[2]*par[2]))*((x[0]*x[0]) - (par[2]*par[2]));\n",
    "  Double_t arg4 = x[0]*x[0]*x[0]*x[0]*((par[1]*par[1])/(par[2]*par[2]));\n",
    "  return par[0]*arg1*arg2/(arg3 + arg4);\n",
    "}\n",
    "TF1 *BW = new TF1(\"mybw\",mybw,0.485, 0.505,3);"
   ]
  },
  {
   "cell_type": "code",
   "execution_count": null,
   "metadata": {},
   "outputs": [],
   "source": [
    "\n",
    "BW->SetParName(0,\"const\");  \n",
    "BW->SetParameter(0,1.0);   \n",
    "BW->SetParName(1,\"Gamma\");\n",
    "BW->SetParameter(1,5); \n",
    "BW->SetParName(2,\"Mass\");\n",
    "BW->SetParameter(2,91);     \n",
    "TH1F *h_mumu_fit3 = (TH1F*)h_mumu_short->Clone(\"h_mumu_fit3\");    \n",
    "h_mumu_fit3->Fit(\"mybw\");\n",
    "h_mumu_fit3->Draw();\n",
    "BW->Draw(\"same\");\n",
    "c1->Draw();"
   ]
  },
  {
   "cell_type": "markdown",
   "metadata": {},
   "source": [
    "Now let's compare fit and function to fit in two different pads"
   ]
  },
  {
   "cell_type": "code",
   "execution_count": null,
   "metadata": {},
   "outputs": [],
   "source": [
    "TH1F *hratio = (TH1F*)h_mumu_short->Clone(\"hratio\");"
   ]
  },
  {
   "cell_type": "code",
   "execution_count": null,
   "metadata": {
    "scrolled": true
   },
   "outputs": [],
   "source": [
    "hratio->Divide(h_mumu_fit3->GetFunction(\"mybw\"));"
   ]
  },
  {
   "cell_type": "code",
   "execution_count": null,
   "metadata": {},
   "outputs": [],
   "source": [
    "TPad pad1(\"pad1\",\"main\",  0, 0.3, 1, 1.0);\n",
    "TPad pad2(\"pad2\",\"ratio\", 0, 0.05, 1, 0.3);   "
   ]
  },
  {
   "cell_type": "code",
   "execution_count": null,
   "metadata": {},
   "outputs": [],
   "source": [
    "TCanvas *c2 = new TCanvas(\"c2\",\"My Second Canvas\",600,400);"
   ]
  },
  {
   "cell_type": "code",
   "execution_count": null,
   "metadata": {},
   "outputs": [],
   "source": [
    "c2->cd();\n",
    "pad1.SetFillColor(0);\n",
    "pad1.Draw();\n",
    "\n",
    "                                             \n",
    "pad2.SetFillColor(0);\n",
    "pad2.Draw();"
   ]
  },
  {
   "cell_type": "markdown",
   "metadata": {},
   "source": [
    "Go to the first pad and plot histogram and fit function"
   ]
  },
  {
   "cell_type": "code",
   "execution_count": null,
   "metadata": {
    "scrolled": true
   },
   "outputs": [],
   "source": [
    "pad1.cd();\n",
    "h_mumu_short->Draw();\n",
    "BW->Draw(\"same\");"
   ]
  },
  {
   "cell_type": "code",
   "execution_count": null,
   "metadata": {},
   "outputs": [],
   "source": [
    "c2->Draw()"
   ]
  },
  {
   "cell_type": "markdown",
   "metadata": {},
   "source": [
    "Go to the second pad and plot ratio"
   ]
  },
  {
   "cell_type": "code",
   "execution_count": null,
   "metadata": {},
   "outputs": [],
   "source": [
    "pad2.Clear();\n",
    "pad2.cd();\n",
    "hratio->Draw();"
   ]
  },
  {
   "cell_type": "code",
   "execution_count": null,
   "metadata": {},
   "outputs": [],
   "source": [
    "c2->Draw()"
   ]
  },
  {
   "cell_type": "markdown",
   "metadata": {},
   "source": [
    "## Graphs\n",
    "Example on how to use graphs. For example do tag and probe and measure efficiency (TGraphAsymError)"
   ]
  },
  {
   "cell_type": "code",
   "execution_count": null,
   "metadata": {},
   "outputs": [],
   "source": [
    "TCanvas *c3 = new TCanvas(\"c3\",\"My Numerator denominator\",600,400);\n"
   ]
  },
  {
   "cell_type": "code",
   "execution_count": null,
   "metadata": {},
   "outputs": [],
   "source": [
    "//double mass_mumu;\n",
    "//UInt_t          lep_n;\n",
    "//Float_t         lep_pt[6];\n",
    "//Float_t         lep_eta[6];\n",
    "//Float_t         lep_phi[6];\n",
    "//Float_t         lep_charge[6];\n",
    "//UInt_t          lep_type[6];\n",
    "//Float_t         lep_E[6]; \n",
    "Float_t         lep_etcone20[6];   //[lep_n]"
   ]
  },
  {
   "cell_type": "code",
   "execution_count": null,
   "metadata": {},
   "outputs": [],
   "source": [
    "//TLorentzVector v1;\n",
    "//TLorentzVector v2;\n",
    "//TLorentzVector v3;\n",
    "\n",
    "\n",
    "TH1F *h_pass_pt=new TH1F(\"h_pass_pt\",\"Numerator Momentum\",100,0,200);\n",
    "TH1F *h_tot_pt=new TH1F(\"h_tot_pt\",\"Denominator Momentum\",100,0,200);"
   ]
  },
  {
   "cell_type": "code",
   "execution_count": null,
   "metadata": {},
   "outputs": [],
   "source": [
    " t1->SetBranchAddress(\"lep_n\", &lep_n);\n",
    " t1->SetBranchAddress(\"lep_pt\", lep_pt);\n",
    " t1->SetBranchAddress(\"lep_eta\", lep_eta);\n",
    " t1->SetBranchAddress(\"lep_phi\", lep_phi);\n",
    " t1->SetBranchAddress(\"lep_charge\", lep_charge);\n",
    " t1->SetBranchAddress(\"lep_type\", lep_type);\n",
    " t1->SetBranchAddress(\"lep_E\", lep_E);\n",
    " t1->SetBranchAddress(\"lep_etcone20\",lep_etcone20);\n",
    "\n",
    "//int nEntries = t1 -> GetEntries();\n",
    "if (nEntries>10000) nEntries=10000; //(uncomment if you want to give a quick try)"
   ]
  },
  {
   "cell_type": "code",
   "execution_count": null,
   "metadata": {},
   "outputs": [],
   "source": [
    "for(int i = 0; i < nEntries; ++i){\n",
    "    t1->GetEntry(i);\n",
    "    if(lep_n<2) continue;\n",
    "    for(int i1=0;i1<lep_n;++i1){\n",
    "        if(lep_type[i1]!=13) continue;\n",
    "        if(lep_etcone20[i1]>100) continue;\n",
    "        v1.SetPtEtaPhiE(lep_pt[i1]/1000.,lep_eta[i1],lep_phi[i1],lep_E[i1]/1000.);\n",
    "        for(int i2=0;i2<lep_n;++i2){\n",
    "            if(i1==i2) continue;\n",
    "            if(lep_type[i2]!=13) continue;\n",
    "                mass_mumu=0;\n",
    "             v2.SetPtEtaPhiE(lep_pt[i2]/1000.,lep_eta[i2],lep_phi[i2],lep_E[i2]/1000.);\n",
    "    v3=v1+v2;\n",
    "      mass_mumu = v3.Mag();\n",
    "            if(fabs(mass_mumu-91)>5) continue;\n",
    "            // this is the denominator\n",
    "                h_tot_pt->Fill(lep_pt[i2]/1000);\n",
    "            // this is the numerator\n",
    "            if(lep_etcone20[i2]>100) continue;\n",
    "            h_pass_pt->Fill(lep_pt[i2]/1000);\n",
    "        }\n",
    "    }\n",
    "}\n",
    "        \n",
    "//TGraphAsymmErrors eff_pt;\n",
    "cout << h_pass_pt->GetNbinsX() << endl;\n",
    " gr = new TGraphAsymmErrors(h_pass_pt);\n",
    "gr->Divide(h_pass_pt,h_tot_pt);\n",
    "gr->SetMarkerSize(21);\n",
    "gr->SetMarkerColor(kRed);\n",
    "\n",
    "c3->Clear();\n",
    "c3->Divide(1,2);\n",
    "\n",
    "c3->cd(1);\n",
    "h_tot_pt->Draw();\n",
    "h_pass_pt->Draw(\"same\");\n",
    "h_pass_pt->SetFillColor(kYellow);\n",
    "auto legend = new TLegend(0.1,0.7,0.48,0.9);\n",
    "   legend->SetHeader(\"Efficiency of EtCone20 selection\",\"C\"); // option \"C\" allows to center the header\n",
    "   legend->AddEntry(h_tot_pt,\"Denominator\",\"f\");\n",
    "     legend->AddEntry(h_pass_pt,\"Numerator\",\"f\");\n",
    "   legend->AddEntry(\"gr\",\"Efficiency\",\"lep\");\n",
    "   legend->Draw();\n",
    "\n",
    "\n",
    "c3->cd(2);\n",
    "gr->Draw(\"AP\");\n",
    "c3->Draw();"
   ]
  },
  {
   "cell_type": "markdown",
   "metadata": {},
   "source": [
    "*TODO:* TH1F variable bins size Example from last class: dynamically-sized histogram bins\n",
    "TH1F* hist = new TH1F(name,title,Nbins,binEdgesArray)\n",
    "TH1F* hist = new TH1F(name,title,bins.size()-1,&bins[0])\n",
    "You can get C++ arrays in python through array or numpy\n",
    "import array\n",
    "binArray = array.array('f',binList)\n",
    "hist = ROOT.TH1F(name,title,len(binList)-1,binArray)\n",
    "The 'f' in the above is for \n",
    "oat, 'd' would be double, 'i' for int, etc\n",
    "Numpy is instead (for a 32-bit \n",
    "oat = single-precision):\n",
    "import numpy\n",
    "binArray = numpy.array(binList,dtype=numpy.float32)"
   ]
  },
  {
   "cell_type": "markdown",
   "metadata": {},
   "source": [
    "## Saving different histograms to file"
   ]
  },
  {
   "cell_type": "code",
   "execution_count": 1,
   "metadata": {},
   "outputs": [
    {
     "name": "stderr",
     "output_type": "stream",
     "text": [
      "Info in <TCanvas::MakeDefCanvas>:  created default TCanvas with name c1\n"
     ]
    }
   ],
   "source": [
    " const int NUM_FILES = 2;\n",
    "  TH1F *my_histo[NUM_FILES];\n",
    "  for(int itree =0; itree<NUM_FILES;++itree){\n",
    "    TFile *my_file;\n",
    "    if(itree==0) {my_file= new TFile(\"data/mc_147771.Zmumu.root\");}\n",
    "    else  {my_file = new TFile(\"data/mc_117050.ttbar_lep.root\");}\n",
    "    char hname[20];\n",
    "    sprintf(hname, \"h_%d\",itree);\n",
    "    my_histo[itree] = new TH1F( hname , \"\" , 100 , 0. , 100.);\n",
    "    TTree *my_t = (TTree*)my_file->Get(\"mini\");\n",
    "    char commandname[20];\n",
    "    sprintf(commandname, \"lep_pt[0]/1000.>>h_%d\",itree);\n",
    "    my_t->Draw(commandname);\n",
    "  }\n",
    "  TFile *newfile = new TFile(\"histo_file.root\",\"RECREATE\"); \n",
    "  for(int itree =0; itree<NUM_FILES;++itree){\n",
    "    my_histo[itree]->Write();\n",
    "  }\n",
    "  newfile->Close();\n"
   ]
  },
  {
   "cell_type": "markdown",
   "metadata": {},
   "source": [
    "## Retrieve histograms from file"
   ]
  },
  {
   "cell_type": "code",
   "execution_count": 1,
   "metadata": {},
   "outputs": [
    {
     "data": {
      "image/png": "[encoded data removed]",
      "text/plain": [
       "<IPython.core.display.Image object>"
      ]
     },
     "metadata": {},
     "output_type": "display_data"
    }
   ],
   "source": [
    "TFile *newfile = new TFile(\"histo_file.root\",\"READ\");\n",
    "TCanvas *c4 = new TCanvas(\"c4\",\"My 4th Canvas\",600,400);\n",
    "c4->Divide(2,2);\n",
    "\n",
    "char name[20];\n",
    "for(int j=0; j<2; ++j){\n",
    "    sprintf(name, \"h_%d\",j);\n",
    "    TH1F *h = (TH1F*)gDirectory->Get(name);\n",
    "    c4->cd(j+1);\n",
    "    h->Draw();\n",
    "}\n",
    "c4->cd(3);\n",
    "TH1F *h_0 = (TH1F*)gDirectory->Get(\"h_0\");\n",
    "TH1F *h_0_cl = (TH1F*)h_0->Clone(\"h_0_cl\");\n",
    "TH1F *h_1 = (TH1F*)gDirectory->Get(\"h_1\");\n",
    "TH1F *h_1_cl = (TH1F*)h_1->Clone(\"h_1_cl\");\n",
    "h_0_cl->Sumw2();\n",
    "h_1_cl->Sumw2();\n",
    "h_0_cl->SetNormFactor(1);\n",
    "h_1_cl->SetNormFactor(1);\n",
    "h_0_cl->SetFillColor(5);\n",
    "h_0_cl->Draw();\n",
    "h_1_cl->SetLineWidth(3);  \n",
    "h_1_cl->Draw(\"same\");\n",
    "  \n",
    "c4->Draw();\n"
   ]
  },
  {
   "cell_type": "markdown",
   "metadata": {},
   "source": [
    "## Use THStack to stack histograms"
   ]
  },
  {
   "cell_type": "code",
   "execution_count": 2,
   "metadata": {},
   "outputs": [
    {
     "data": {
      "image/png": "[encoded data removed]",
      "text/plain": [
       "<IPython.core.display.Image object>"
      ]
     },
     "metadata": {},
     "output_type": "display_data"
    }
   ],
   "source": [
    " c4->cd(4);\n",
    "THStack *hs = new THStack(\"hs\",\"Stacked 1D histograms\");\n",
    "h_0->SetFillColor(kRed);\n",
    "   h_0->SetMarkerStyle(21);\n",
    "   h_0->SetMarkerColor(kRed);\n",
    "   hs->Add(h_0);\n",
    "h_1->SetFillColor(kBlue);\n",
    "   h_1->SetMarkerStyle(21);\n",
    "   h_1->SetMarkerColor(kBlue);\n",
    "   hs->Add(h_1);\n",
    "hs->Draw();\n",
    "c4->Draw();"
   ]
  },
  {
   "cell_type": "markdown",
   "metadata": {},
   "source": [
    "## Create a subsample of event file "
   ]
  },
  {
   "cell_type": "markdown",
   "metadata": {},
   "source": [
    "Here we will read a file containing events, and will write to a new file only a subsample of it."
   ]
  },
  {
   "cell_type": "code",
   "execution_count": null,
   "metadata": {},
   "outputs": [],
   "source": [
    "TFile *f1 = new TFile(\"data/mc_147771.Zmumu.root\");\n",
    "TTree *t1 = (TTree*)f1->Get(\"mini\");\n",
    "gRandom = new TRandom3();\n",
    "const auto nentries = t1->GetEntries();\n",
    "t1->SetBranchStatus(\"*\", 1);\n",
    "TFile newfile(\"smaller.root\", \"recreate\");\n",
    "auto newtree = t1->CloneTree(0);\n",
    "for (auto i : ROOT::TSeqI(nentries)) {\n",
    "   t1->GetEntry(i);\n",
    "    // simple minded\n",
    " //   if(i>10000) break;\n",
    "// you can do something more clever using random \n",
    "     if(gRandom->Rndm()<(10000./nentries)){\n",
    "    newtree->Fill();\n",
    "     }\n",
    "}\n",
    "\n",
    "newtree->Print();\n",
    "newfile.Write();\n",
    "newfile.ls();    "
   ]
  },
  {
   "cell_type": "code",
   "execution_count": null,
   "metadata": {},
   "outputs": [],
   "source": [
    "TTree *tsmall = (TTree*)newfile.Get(\"mini\");\n",
    "int nentries_small = tsmall->GetEntries();\n",
    "cout << \"nentries smaller file=\" << nentries_small << endl;\n",
    "cout << \"nentries full file=\" << nentries << endl;"
   ]
  },
  {
   "cell_type": "markdown",
   "metadata": {},
   "source": [
    "# Root Macros\n",
    "Now we will edit files"
   ]
  },
  {
   "cell_type": "code",
   "execution_count": null,
   "metadata": {
    "scrolled": true
   },
   "outputs": [],
   "source": [
    "%edit scripts/UnNamedMacro.cpp"
   ]
  },
  {
   "cell_type": "code",
   "execution_count": null,
   "metadata": {},
   "outputs": [],
   "source": [
    "%%file scripts/UnNamedMacro.cpp\n",
    "{\n",
    "TCanvas *c1 = new TCanvas(\"c1\",\"My Third Canvas\",600,400);\n",
    "TFile *f1 = new TFile(\"data/mc_147771.Zmumu.root\");\n",
    "f1->ls();\n",
    "TH1F *h1 = new TH1F(\"h1\",\"SubLeading Lepton Pt\",100,0,100000);\n",
    "# note the shortcut to use directly mini TTree\n",
    "# this is NOT C++ !\n",
    "mini->Draw(\"lep_pt[1]>>h1\");\n",
    "\n",
    "h1->Draw();\n",
    "c1->Draw();\n",
    "}\n"
   ]
  },
  {
   "cell_type": "code",
   "execution_count": null,
   "metadata": {
    "scrolled": true
   },
   "outputs": [],
   "source": [
    ".x scripts/UnNamedMacro.cpp"
   ]
  },
  {
   "cell_type": "markdown",
   "metadata": {},
   "source": [
    "Now time to make our histogram prettier, paper journal quality style!"
   ]
  },
  {
   "cell_type": "code",
   "execution_count": null,
   "metadata": {},
   "outputs": [],
   "source": [
    "%edit scripts/UnNamedMacro.cpp"
   ]
  },
  {
   "cell_type": "code",
   "execution_count": null,
   "metadata": {},
   "outputs": [],
   "source": [
    "%%file scripts/UnNamedMacro.cpp\n",
    "{\n",
    "gStyle->SetOptTitle(0);\n",
    "gStyle->SetOptStat(0);\n",
    "gStyle->SetHistLineWidth(2.);\n",
    "Int_t font=42; // Helvetica\n",
    "Double_t tsize=0.05;\n",
    "gStyle->SetTextFont(font);\n",
    "gStyle->SetTextSize(tsize);\n",
    "\n",
    "\n",
    "TCanvas *c1 = new TCanvas(\"c1\",\"My Third Canvas\",600,400);\n",
    "TFile *f1 = new TFile(\"data/mc_147771.Zmumu.root\");\n",
    "f1->ls();\n",
    "TH1F *h1 = new TH1F(\"h1\",\"SubLeading Lepton Pt\",100,0,100000);\n",
    "mini->Draw(\"lep_pt[1]>>h1\");\n",
    "h1->Draw();\n",
    "\n",
    "c1->Draw();\n",
    "}"
   ]
  },
  {
   "cell_type": "code",
   "execution_count": null,
   "metadata": {},
   "outputs": [],
   "source": [
    "%%file scripts/UnNamedMacro.cpp\n",
    "{\n",
    "gStyle->SetOptTitle(0);\n",
    "gStyle->SetOptStat(0);\n",
    "gStyle->SetHistLineWidth(2.);\n",
    "Int_t font=42; // Helvetica\n",
    "Double_t tsize=0.05;\n",
    "gStyle->SetTextFont(font);\n",
    "gStyle->SetTextSize(tsize);\n",
    "\n",
    "\n",
    "TCanvas *c1 = new TCanvas(\"c1\",\"My Third Canvas\",600,400);\n",
    "TFile *f1 = new TFile(\"data/mc_147771.Zmumu.root\");\n",
    "f1->ls();\n",
    "TH1F *h1 = new TH1F(\"h1\",\"SubLeading Lepton Pt\",100,0,100000);\n",
    "mini->Draw(\"lep_pt[1]>>h1\");\n",
    "h1->Draw();\n",
    "\n",
    "c1->Draw();\n",
    "}"
   ]
  },
  {
   "cell_type": "code",
   "execution_count": null,
   "metadata": {
    "scrolled": true
   },
   "outputs": [],
   "source": [
    ".x scripts/UnNamedMacro.cpp"
   ]
  },
  {
   "cell_type": "markdown",
   "metadata": {},
   "source": [
    "writing a bunch of gStyle-> etc.... is tedious. Just define once for all in rootlogon.C (but doesn't seem to work on notebook). We will try that during tutorial"
   ]
  },
  {
   "cell_type": "code",
   "execution_count": null,
   "metadata": {},
   "outputs": [],
   "source": [
    "%edit scripts/NamedMacro.cpp"
   ]
  },
  {
   "cell_type": "code",
   "execution_count": null,
   "metadata": {},
   "outputs": [],
   "source": [
    "%%file scripts/NamedMacro.cpp\n",
    "void NamedMacro(const char *my_draw){\n",
    "  TCanvas *c1 = new TCanvas(\"c1\",\"My Third Canvas\",600,400);\n",
    "  TFile *f1 = new TFile(\"data/mc_147771.Zmumu.root\");\n",
    "  f1->ls();\n",
    "  TH1F *h1 = new TH1F(\"h1\",\"SubLeading Lepton Pt\",100,0,100000);\n",
    "  TTree *t1 = (TTree*)f1->Get(\"mini\");\n",
    "  t1->Draw(my_draw);\n",
    "  h1->Draw();\n",
    "  c1->Draw();\n",
    "}"
   ]
  },
  {
   "cell_type": "code",
   "execution_count": null,
   "metadata": {
    "scrolled": true
   },
   "outputs": [],
   "source": [
    "# this equivalent to .L scripts/NamedMacro.cpp\n",
    "gROOT->ProcessLine(\".L scripts/NamedMacro.cpp\");\n",
    "NamedMacro(\"lep_pt[1]>>h1\");"
   ]
  },
  {
   "cell_type": "markdown",
   "metadata": {},
   "source": [
    "Try to compile with AClic the Macro"
   ]
  },
  {
   "cell_type": "code",
   "execution_count": null,
   "metadata": {},
   "outputs": [],
   "source": [
    "%edit scripts/NamedMacroCompiled.cpp"
   ]
  },
  {
   "cell_type": "code",
   "execution_count": null,
   "metadata": {},
   "outputs": [],
   "source": [
    "%%file scripts/NamedMacroCompiled.cpp\n",
    "#include \"TCanvas.h\"\n",
    "#include \"TH1F.h\"\n",
    "#include \"TFile.h\"\n",
    "#include \"TTree.h\"\n",
    "void NamedMacroCompiled(const char *my_draw){\n",
    "  TCanvas *c1 = new TCanvas(\"c1\",\"My Third Canvas\",600,400);\n",
    "  TFile *f1 = new TFile(\"data/mc_147771.Zmumu.root\");\n",
    "  f1->ls();\n",
    "  TH1F *h1 = new TH1F(\"h1\",\"SubLeading Lepton Pt\",100,0,100000);\n",
    "  TTree *t1 = (TTree*)f1->Get(\"mini\");\n",
    "  t1->Draw(my_draw);\n",
    "  h1->Draw();\n",
    "  c1->Draw();\n",
    "}"
   ]
  },
  {
   "cell_type": "code",
   "execution_count": null,
   "metadata": {
    "scrolled": false
   },
   "outputs": [],
   "source": [
    "//this is equivalent to commnt .L scripts/NamedMacroCompiled.cpp+\n",
    "gROOT->ProcessLine(\".L scripts/NamedMacroCompiled.cpp+\");\n",
    "NamedMacroCompiled(\"lep_pt[1]>>h1\");"
   ]
  },
  {
   "cell_type": "code",
   "execution_count": null,
   "metadata": {},
   "outputs": [],
   "source": []
  }
 ],
 "metadata": {
  "kernelspec": {
   "display_name": "ROOT C++",
   "language": "c++",
   "name": "root"
  },
  "language_info": {
   "codemirror_mode": "text/x-c++src",
   "file_extension": ".C",
   "mimetype": " text/x-c++src",
   "name": "c++"
  },
  "toc": {
   "base_numbering": 1,
   "nav_menu": {},
   "number_sections": true,
   "sideBar": true,
   "skip_h1_title": false,
   "title_cell": "Table of Contents",
   "title_sidebar": "Contents",
   "toc_cell": false,
   "toc_position": {},
   "toc_section_display": true,
   "toc_window_display": false
  }
 },
 "nbformat": 4,
 "nbformat_minor": 1
}
