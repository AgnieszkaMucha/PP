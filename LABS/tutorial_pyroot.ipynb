{
 "cells": [
  {
   "cell_type": "markdown",
   "metadata": {},
   "source": [
    "# ROOT PyROOT basics (Python)\n",
    "\n",
    "## Objectives:\n",
    "* How to open a TFile?\n",
    "* How to inspect it?\n",
    "* How to create/draw  histogram (1D/2D)?\n",
    "* Loop on TTree entries\n",
    "* Fit function\n",
    "\n",
    "\n"
   ]
  },
  {
   "cell_type": "code",
   "execution_count": 2,
   "metadata": {
    "scrolled": true
   },
   "outputs": [
    {
     "name": "stdout",
     "output_type": "stream",
     "text": [
      "Welcome to JupyROOT 6.16/00\n"
     ]
    }
   ],
   "source": [
    "import ROOT"
   ]
  },
  {
   "cell_type": "markdown",
   "metadata": {},
   "source": [
    "In order to activate the interactive visualisation we can use the [JSROOT](https://root.cern.ch/js/) magic:"
   ]
  },
  {
   "cell_type": "code",
   "execution_count": 16,
   "metadata": {},
   "outputs": [],
   "source": [
    "%jsroot on"
   ]
  },
  {
   "cell_type": "markdown",
   "metadata": {},
   "source": [
    "Open a TFile\n"
   ]
  },
  {
   "cell_type": "code",
   "execution_count": 17,
   "metadata": {},
   "outputs": [],
   "source": [
    "f = ROOT.TFile.Open(\"data/mc_147771.Zmumu.root\")"
   ]
  },
  {
   "cell_type": "markdown",
   "metadata": {},
   "source": [
    "Inspect file"
   ]
  },
  {
   "cell_type": "code",
   "execution_count": 18,
   "metadata": {},
   "outputs": [
    {
     "name": "stdout",
     "output_type": "stream",
     "text": [
      "TFile**\t\tdata/mc_147771.Zmumu.root\t\n",
      " TFile*\t\tdata/mc_147771.Zmumu.root\t\n",
      "  KEY: TTree\tmini;1\t4-vectors + variables required for scaling factors\n"
     ]
    }
   ],
   "source": [
    "f.ls()"
   ]
  },
  {
   "cell_type": "markdown",
   "metadata": {},
   "source": [
    "Now access the TTree. t1.Print() takes ages. "
   ]
  },
  {
   "cell_type": "code",
   "execution_count": 19,
   "metadata": {},
   "outputs": [
    {
     "name": "stdout",
     "output_type": "stream",
     "text": [
      "OBJ: TTree\tmini\t4-vectors + variables required for scaling factors : 0 at: 0x7227f90\n"
     ]
    }
   ],
   "source": [
    "t1 = f.mini\n",
    "t1.ls()"
   ]
  },
  {
   "cell_type": "markdown",
   "metadata": {},
   "source": [
    "Now we can scan the tree. Scan numerically some elements of the TTree. Don't remove the \"10\" in command line, it will crash the kernel of this notebook Usefull command if you want to have a first look at the variables. Scan(\"variable1:variable2:\",condition, format, number of rows to be printed)"
   ]
  },
  {
   "cell_type": "code",
   "execution_count": 20,
   "metadata": {},
   "outputs": [
    {
     "data": {
      "text/plain": [
       "16L"
      ]
     },
     "execution_count": 20,
     "metadata": {},
     "output_type": "execute_result"
    },
    {
     "name": "stdout",
     "output_type": "stream",
     "text": [
      "*******************************************************\n",
      "*    Row   * Instance * event * vxp_z * lep_n * lep_p *\n",
      "*******************************************************\n",
      "*        0 *        0 *     9 *    41 *     2 * 3e+04 *\n",
      "*        0 *        1 *     9 *    41 *     2 * 3e+04 *\n",
      "*        1 *        0 *    28 *  56.8 *     2 * 4e+04 *\n",
      "*        1 *        1 *    28 *  56.8 *     2 * 2e+04 *\n",
      "*        2 *        0 *    36 * -50.3 *     2 * 4e+04 *\n",
      "*        2 *        1 *    36 * -50.3 *     2 * 7e+03 *\n",
      "*        3 *        0 *    38 *  3.26 *     1 * 4e+04 *\n",
      "*        4 *        0 *    47 * -9.99 *     1 * 6e+04 *\n",
      "*        5 *        0 *    67 *  3.04 *     1 * 3e+04 *\n",
      "*        6 *        0 *    68 * -42.5 *     2 * 5e+04 *\n",
      "*        6 *        1 *    68 * -42.5 *     2 * 3e+04 *\n",
      "*        7 *        0 *    76 * -2.32 *     2 * 4e+04 *\n",
      "*        7 *        1 *    76 * -2.32 *     2 * 4e+04 *\n",
      "*        8 *        0 *    79 *  15.3 *     2 * 4e+04 *\n",
      "*        8 *        1 *    79 *  15.3 *     2 * 4e+04 *\n",
      "*        9 *        0 *    96 *   115 *     1 * 5e+04 *\n",
      "*******************************************************\n"
     ]
    }
   ],
   "source": [
    "t1.Scan(\"eventNumber:vxp_z:lep_n:lep_pt\",\"\",\"colsize=5 precision=3\",10)"
   ]
  },
  {
   "cell_type": "markdown",
   "metadata": {},
   "source": [
    "We can now draw the histogram. We will at first create a [canvas](https://root.cern.ch/doc/master/classTCanvas.html), the entity which in ROOT holds graphics primitives. Note that thanks to [JSROOT](https://root.cern.ch/js/), this is not a static plot but an interactive visualisation. Try to play with it and save it as image when you are satisfied!\n",
    "Difference with CINT: Tree.Draw() does NOT store htemp histograms"
   ]
  },
  {
   "cell_type": "code",
   "execution_count": 21,
   "metadata": {
    "scrolled": true
   },
   "outputs": [
    {
     "name": "stderr",
     "output_type": "stream",
     "text": [
      "Warning in <TCanvas::Constructor>: Deleting canvas with same name: c1\n"
     ]
    },
    {
     "data": {
      "text/html": [
       "\n",
       "<div id=\"root_plot_3\"\n",
       "     style=\"width: 396px; height: 372px\">\n",
       "</div>\n",
       "\n",
       "<script>\n",
       " requirejs.config({\n",
       "     paths: {\n",
       "       'JSRootCore' : 'https://root.cern.ch/js/notebook//scripts/JSRootCore',\n",
       "     }\n",
       "   });\n",
       " require(['JSRootCore'],\n",
       "     function(Core) {\n",
       "       var obj = Core.JSONR_unref({\"_typename\":\"TCanvas\",\"fUniqueID\":0,\"fBits\":53673992,\"fLineColor\":1,\"fLineStyle\":1,\"fLineWidth\":1,\"fFillColor\":0,\"fFillStyle\":1001,\"fLeftMargin\":0.1,\"fRightMargin\":0.1,\"fBottomMargin\":0.1,\"fTopMargin\":0.1,\"fXfile\":2,\"fYfile\":2,\"fAfile\":1,\"fXstat\":0.99,\"fYstat\":0.99,\"fAstat\":2,\"fFrameFillColor\":0,\"fFrameLineColor\":1,\"fFrameFillStyle\":1001,\"fFrameLineStyle\":1,\"fFrameLineWidth\":1,\"fFrameBorderSize\":1,\"fFrameBorderMode\":0,\"fX1\":-13500.0010058284,\"fY1\":-62130.99837912,\"fX2\":121500.001005828,\"fY2\":559178.94837912,\"fXtoAbsPixelk\":39.600052360344,\"fXtoPixelk\":39.600052360344,\"fXtoPixel\":0.00293333328962326,\"fYtoAbsPixelk\":334.800047782707,\"fYtoPixelk\":334.800047782707,\"fYtoPixel\":-5.98734982340062e-4,\"fUtoAbsPixelk\":5e-5,\"fUtoPixelk\":5e-5,\"fUtoPixel\":396,\"fVtoAbsPixelk\":372.00005,\"fVtoPixelk\":372,\"fVtoPixel\":-372,\"fAbsPixeltoXk\":-13500.0010058284,\"fPixeltoXk\":-13500.0010058284,\"fPixeltoX\":340.909095989032,\"fAbsPixeltoYk\":559178.94837912,\"fPixeltoYk\":-62130.99837912,\"fPixeltoY\":-1670.18802892,\"fXlowNDC\":0,\"fYlowNDC\":0,\"fXUpNDC\":0,\"fYUpNDC\":0,\"fWNDC\":1,\"fHNDC\":1,\"fAbsXlowNDC\":0,\"fAbsYlowNDC\":0,\"fAbsWNDC\":1,\"fAbsHNDC\":1,\"fUxmin\":0,\"fUymin\":0,\"fUxmax\":108000,\"fUymax\":497047.95,\"fTheta\":30,\"fPhi\":30,\"fAspectRatio\":0,\"fNumber\":0,\"fTickx\":0,\"fTicky\":0,\"fLogx\":0,\"fLogy\":0,\"fLogz\":0,\"fPadPaint\":0,\"fCrosshair\":0,\"fCrosshairPos\":0,\"fBorderSize\":2,\"fBorderMode\":0,\"fModified\":false,\"fGridx\":false,\"fGridy\":false,\"fAbsCoord\":false,\"fEditable\":true,\"fFixedAspectRatio\":false,\"fPrimitives\":{\"_typename\":\"TList\",\"name\":\"TList\",\"arr\":[{\"_typename\":\"TFrame\",\"fUniqueID\":0,\"fBits\":50331656,\"fLineColor\":1,\"fLineStyle\":1,\"fLineWidth\":1,\"fFillColor\":0,\"fFillStyle\":1001,\"fX1\":0,\"fY1\":0,\"fX2\":108000,\"fY2\":497047.95,\"fBorderSize\":1,\"fBorderMode\":0},{\"_typename\":\"TH1F\",\"fUniqueID\":0,\"fBits\":50331657,\"fName\":\"htemp\",\"fTitle\":\"lep_pt {lep_pt<100000}\",\"fLineColor\":602,\"fLineStyle\":1,\"fLineWidth\":1,\"fFillColor\":0,\"fFillStyle\":1001,\"fMarkerColor\":1,\"fMarkerStyle\":1,\"fMarkerSize\":1,\"fNcells\":102,\"fXaxis\":{\"_typename\":\"TAxis\",\"fUniqueID\":0,\"fBits\":50331648,\"fName\":\"xaxis\",\"fTitle\":\"lep_pt\",\"fNdivisions\":510,\"fAxisColor\":1,\"fLabelColor\":1,\"fLabelFont\":42,\"fLabelOffset\":0.005,\"fLabelSize\":0.035,\"fTickLength\":0.03,\"fTitleOffset\":1,\"fTitleSize\":0.035,\"fTitleColor\":1,\"fTitleFont\":42,\"fNbins\":100,\"fXmin\":0,\"fXmax\":108000,\"fXbins\":[],\"fFirst\":1,\"fLast\":100,\"fBits2\":0,\"fTimeDisplay\":false,\"fTimeFormat\":\"\",\"fLabels\":null,\"fModLabs\":null},\"fYaxis\":{\"_typename\":\"TAxis\",\"fUniqueID\":0,\"fBits\":50331648,\"fName\":\"yaxis\",\"fTitle\":\"\",\"fNdivisions\":510,\"fAxisColor\":1,\"fLabelColor\":1,\"fLabelFont\":42,\"fLabelOffset\":0.005,\"fLabelSize\":0.035,\"fTickLength\":0.03,\"fTitleOffset\":0,\"fTitleSize\":0.035,\"fTitleColor\":1,\"fTitleFont\":42,\"fNbins\":1,\"fXmin\":0,\"fXmax\":1,\"fXbins\":[],\"fFirst\":0,\"fLast\":0,\"fBits2\":0,\"fTimeDisplay\":false,\"fTimeFormat\":\"\",\"fLabels\":null,\"fModLabs\":null},\"fZaxis\":{\"_typename\":\"TAxis\",\"fUniqueID\":0,\"fBits\":50331648,\"fName\":\"zaxis\",\"fTitle\":\"\",\"fNdivisions\":510,\"fAxisColor\":1,\"fLabelColor\":1,\"fLabelFont\":42,\"fLabelOffset\":0.005,\"fLabelSize\":0.035,\"fTickLength\":0.03,\"fTitleOffset\":1,\"fTitleSize\":0.035,\"fTitleColor\":1,\"fTitleFont\":42,\"fNbins\":1,\"fXmin\":0,\"fXmax\":1,\"fXbins\":[],\"fFirst\":0,\"fLast\":0,\"fBits2\":0,\"fTimeDisplay\":false,\"fTimeFormat\":\"\",\"fLabels\":null,\"fModLabs\":null},\"fBarOffset\":0,\"fBarWidth\":1000,\"fEntries\":12559280,\"fTsumw\":12559280,\"fTsumw2\":12559280,\"fTsumwx\":509406636759.844,\"fTsumwx2\":23243119239061296,\"fMaximum\":-1111,\"fMinimum\":-1111,\"fNormFactor\":0,\"fContour\":[],\"fSumw2\":[],\"fOption\":\"\",\"fFunctions\":{\"_typename\":\"TList\",\"name\":\"TList\",\"arr\":[{\"_typename\":\"TPaveStats\",\"fUniqueID\":0,\"fBits\":50331657,\"fLineColor\":1,\"fLineStyle\":1,\"fLineWidth\":1,\"fFillColor\":0,\"fFillStyle\":1001,\"fX1\":91800.0027358533,\"fY1\":419384.214061812,\"fX2\":118800.003540516,\"fY2\":518793.803321153,\"fX1NDC\":0.780000016093254,\"fY1NDC\":0.775000005960464,\"fX2NDC\":0.980000019073486,\"fY2NDC\":0.935000002384186,\"fBorderSize\":1,\"fInit\":1,\"fShadowColor\":1,\"fCornerRadius\":0,\"fOption\":\"brNDC\",\"fName\":\"stats\",\"fTextAngle\":0,\"fTextSize\":0,\"fTextAlign\":12,\"fTextColor\":1,\"fTextFont\":42,\"fLabel\":\"\",\"fLongest\":24,\"fMargin\":0.05,\"fLines\":{\"_typename\":\"TList\",\"name\":\"TList\",\"arr\":[{\"_typename\":\"TLatex\",\"fUniqueID\":0,\"fBits\":50331648,\"fName\":\"\",\"fTitle\":\"htemp\",\"fTextAngle\":0,\"fTextSize\":0.0368,\"fTextAlign\":0,\"fTextColor\":0,\"fTextFont\":0,\"fX\":0,\"fY\":0,\"fLineColor\":1,\"fLineStyle\":1,\"fLineWidth\":2,\"fLimitFactorSize\":3,\"fOriginSize\":0.0368000008165836},{\"_typename\":\"TLatex\",\"fUniqueID\":0,\"fBits\":50331648,\"fName\":\"\",\"fTitle\":\"Entries =   1.255928e+07\",\"fTextAngle\":0,\"fTextSize\":0,\"fTextAlign\":0,\"fTextColor\":0,\"fTextFont\":0,\"fX\":0,\"fY\":0,\"fLineColor\":1,\"fLineStyle\":1,\"fLineWidth\":2,\"fLimitFactorSize\":3,\"fOriginSize\":0.04},{\"_typename\":\"TLatex\",\"fUniqueID\":0,\"fBits\":50331648,\"fName\":\"\",\"fTitle\":\"Mean  = 4.056e+04\",\"fTextAngle\":0,\"fTextSize\":0,\"fTextAlign\":0,\"fTextColor\":0,\"fTextFont\":0,\"fX\":0,\"fY\":0,\"fLineColor\":1,\"fLineStyle\":1,\"fLineWidth\":2,\"fLimitFactorSize\":3,\"fOriginSize\":0.04},{\"_typename\":\"TLatex\",\"fUniqueID\":0,\"fBits\":50331648,\"fName\":\"\",\"fTitle\":\"Std Dev   = 1.434e+04\",\"fTextAngle\":0,\"fTextSize\":0,\"fTextAlign\":0,\"fTextColor\":0,\"fTextFont\":0,\"fX\":0,\"fY\":0,\"fLineColor\":1,\"fLineStyle\":1,\"fLineWidth\":2,\"fLimitFactorSize\":3,\"fOriginSize\":0.04}],\"opt\":[\"\",\"\",\"\",\"\"]},\"fOptFit\":0,\"fOptStat\":1111,\"fFitFormat\":\"5.4g\",\"fStatFormat\":\"6.4g\",\"fParent\":{\"$ref\":3}}],\"opt\":[\"brNDC\"]},\"fBufferSize\":0,\"fBuffer\":[],\"fBinStatErrOpt\":0,\"fStatOverflows\":2,\"fArray\":[0,0,0,0,0,17979,39296,32426,30575,31023,31045,33677,38041,42890,48034,53733,58541,64460,71367,78663,86689,96031,116518,142314,280800,315296,329137,341918,355474,369218,382335,395077,408081,421873,435939,445977,457056,464691,469977,473379,468595,456514,427478,387713,342689,297335,259302,225431,198763,176377,156544,139744,125946,114523,103819,94132,85638,78411,71159,66089,60994,56448,52032,48252,44974,41633,38521,36050,33674,31290,29468,27622,25641,24062,22667,21493,19873,19060,17829,16708,15867,15049,14120,13276,12626,11747,11053,10830,10130,9745,9080,8645,8248,4841,0,0,0,0,0,0,0,0]},{\"_typename\":\"TPaveText\",\"fUniqueID\":0,\"fBits\":50331657,\"fLineColor\":1,\"fLineStyle\":1,\"fLineWidth\":1,\"fFillColor\":0,\"fFillStyle\":0,\"fX1\":17536.3630930131,\"fY1\":517992.11454859,\"fX2\":90463.6369069869,\"fY2\":556072.401607966,\"fX1NDC\":0.22989898989899,\"fY1NDC\":0.933709682187726,\"fX2NDC\":0.77010101010101,\"fY2NDC\":0.995000004768372,\"fBorderSize\":0,\"fInit\":1,\"fShadowColor\":1,\"fCornerRadius\":0,\"fOption\":\"blNDC\",\"fName\":\"title\",\"fTextAngle\":0,\"fTextSize\":0,\"fTextAlign\":22,\"fTextColor\":1,\"fTextFont\":42,\"fLabel\":\"\",\"fLongest\":22,\"fMargin\":0.05,\"fLines\":{\"_typename\":\"TList\",\"name\":\"TList\",\"arr\":[{\"_typename\":\"TLatex\",\"fUniqueID\":0,\"fBits\":50331648,\"fName\":\"\",\"fTitle\":\"lep_pt {lep_pt<100000}\",\"fTextAngle\":0,\"fTextSize\":0,\"fTextAlign\":0,\"fTextColor\":0,\"fTextFont\":0,\"fX\":0,\"fY\":0,\"fLineColor\":1,\"fLineStyle\":1,\"fLineWidth\":2,\"fLimitFactorSize\":3,\"fOriginSize\":0.0520967729389668}],\"opt\":[\"\"]}}],\"opt\":[\"\",\"\",\"blNDC\"]},\"fExecs\":null,\"fName\":\"c1\",\"fTitle\":\"My Canvas\",\"fNumPaletteColor\":0,\"fNextPaletteColor\":0,\"fDISPLAY\":\"$DISPLAY\",\"fDoubleBuffer\":0,\"fRetained\":true,\"fXsizeUser\":0,\"fYsizeUser\":0,\"fXsizeReal\":20,\"fYsizeReal\":20,\"fWindowTopX\":0,\"fWindowTopY\":0,\"fWindowWidth\":0,\"fWindowHeight\":0,\"fCw\":396,\"fCh\":372,\"fCatt\":{\"_typename\":\"TAttCanvas\",\"fXBetween\":2,\"fYBetween\":2,\"fTitleFromTop\":1.2,\"fXdate\":0.2,\"fYdate\":0.3,\"fAdate\":1},\"kMoveOpaque\":true,\"kResizeOpaque\":true,\"fHighLightColor\":2,\"fBatch\":true,\"kShowEventStatus\":false,\"kAutoExec\":true,\"kMenuBar\":true});\n",
       "       Core.draw(\"root_plot_3\", obj, \"\");\n",
       "     }\n",
       " );\n",
       "</script>\n"
      ],
      "text/plain": [
       "<IPython.core.display.HTML object>"
      ]
     },
     "metadata": {},
     "output_type": "display_data"
    }
   ],
   "source": [
    "c1 = ROOT.TCanvas(\"c1\",\"My Canvas\",400,400)\n",
    "t1.Draw(\"lep_pt\",\"lep_pt<100000\");\n",
    "#htemp.Draw() # does NOT work!\n",
    "c1.Draw()"
   ]
  },
  {
   "cell_type": "markdown",
   "metadata": {},
   "source": [
    "Time to import TH1F class (histogram). You an use dir() to know what are the methods available"
   ]
  },
  {
   "cell_type": "code",
   "execution_count": 22,
   "metadata": {
    "scrolled": false
   },
   "outputs": [
    {
     "data": {
      "text/plain": [
       "['AbstractMethod',\n",
       " 'Add',\n",
       " 'AddAt',\n",
       " 'AddBinContent',\n",
       " 'AddDirectory',\n",
       " 'AddDirectoryStatus',\n",
       " 'Adopt',\n",
       " 'AndersonDarlingTest',\n",
       " 'AppendPad',\n",
       " 'At',\n",
       " 'Browse',\n",
       " 'BufferEmpty',\n",
       " 'CanExtendAllAxes',\n",
       " 'CheckedHash',\n",
       " 'Chi2Test',\n",
       " 'Chi2TestX',\n",
       " 'Chisquare',\n",
       " 'Class',\n",
       " 'ClassName',\n",
       " 'Class_Name',\n",
       " 'Class_Version',\n",
       " 'Clear',\n",
       " 'ClearUnderflowAndOverflow',\n",
       " 'Clone',\n",
       " 'Compare',\n",
       " 'ComputeIntegral',\n",
       " 'Copy',\n",
       " 'DeclFileLine',\n",
       " 'DeclFileName',\n",
       " 'Delete',\n",
       " 'Dictionary',\n",
       " 'DirectoryAutoAdd',\n",
       " 'DistancetoLine',\n",
       " 'DistancetoPrimitive',\n",
       " 'Divide',\n",
       " 'Draw',\n",
       " 'DrawClass',\n",
       " 'DrawClone',\n",
       " 'DrawCopy',\n",
       " 'DrawNormalized',\n",
       " 'DrawPanel',\n",
       " 'Dump',\n",
       " 'Error',\n",
       " 'Eval',\n",
       " 'Execute',\n",
       " 'ExecuteEvent',\n",
       " 'ExtendAxis',\n",
       " 'FFT',\n",
       " 'Fatal',\n",
       " 'Fill',\n",
       " 'FillBuffer',\n",
       " 'FillN',\n",
       " 'FillRandom',\n",
       " 'FindBin',\n",
       " 'FindFirstBinAbove',\n",
       " 'FindFixBin',\n",
       " 'FindLastBinAbove',\n",
       " 'FindObject',\n",
       " 'Fit',\n",
       " 'FitOptionsMake',\n",
       " 'FitPanel',\n",
       " 'GetArray',\n",
       " 'GetAsymmetry',\n",
       " 'GetAt',\n",
       " 'GetAxisColor',\n",
       " 'GetBarOffset',\n",
       " 'GetBarWidth',\n",
       " 'GetBin',\n",
       " 'GetBinCenter',\n",
       " 'GetBinContent',\n",
       " 'GetBinError',\n",
       " 'GetBinErrorLow',\n",
       " 'GetBinErrorOption',\n",
       " 'GetBinErrorUp',\n",
       " 'GetBinLowEdge',\n",
       " 'GetBinWidth',\n",
       " 'GetBinWithContent',\n",
       " 'GetBinXYZ',\n",
       " 'GetBuffer',\n",
       " 'GetBufferLength',\n",
       " 'GetBufferSize',\n",
       " 'GetCellContent',\n",
       " 'GetCellError',\n",
       " 'GetCenter',\n",
       " 'GetContour',\n",
       " 'GetContourLevel',\n",
       " 'GetContourLevelPad',\n",
       " 'GetCumulative',\n",
       " 'GetDefaultBufferSize',\n",
       " 'GetDefaultSumw2',\n",
       " 'GetDimension',\n",
       " 'GetDirectory',\n",
       " 'GetDrawOption',\n",
       " 'GetDtorOnly',\n",
       " 'GetEffectiveEntries',\n",
       " 'GetEntries',\n",
       " 'GetFillColor',\n",
       " 'GetFillStyle',\n",
       " 'GetFunction',\n",
       " 'GetIconName',\n",
       " 'GetIntegral',\n",
       " 'GetKurtosis',\n",
       " 'GetLabelColor',\n",
       " 'GetLabelFont',\n",
       " 'GetLabelOffset',\n",
       " 'GetLabelSize',\n",
       " 'GetLineColor',\n",
       " 'GetLineStyle',\n",
       " 'GetLineWidth',\n",
       " 'GetListOfFunctions',\n",
       " 'GetLowEdge',\n",
       " 'GetMarkerColor',\n",
       " 'GetMarkerSize',\n",
       " 'GetMarkerStyle',\n",
       " 'GetMaximum',\n",
       " 'GetMaximumBin',\n",
       " 'GetMaximumStored',\n",
       " 'GetMean',\n",
       " 'GetMeanError',\n",
       " 'GetMinimum',\n",
       " 'GetMinimumAndMaximum',\n",
       " 'GetMinimumBin',\n",
       " 'GetMinimumStored',\n",
       " 'GetName',\n",
       " 'GetNbinsX',\n",
       " 'GetNbinsY',\n",
       " 'GetNbinsZ',\n",
       " 'GetNcells',\n",
       " 'GetNdivisions',\n",
       " 'GetNormFactor',\n",
       " 'GetObjectInfo',\n",
       " 'GetObjectStat',\n",
       " 'GetOption',\n",
       " 'GetPainter',\n",
       " 'GetQuantiles',\n",
       " 'GetRMS',\n",
       " 'GetRMSError',\n",
       " 'GetRandom',\n",
       " 'GetSize',\n",
       " 'GetSkewness',\n",
       " 'GetStatOverflows',\n",
       " 'GetStats',\n",
       " 'GetStdDev',\n",
       " 'GetStdDevError',\n",
       " 'GetSum',\n",
       " 'GetSumOfWeights',\n",
       " 'GetSumw2',\n",
       " 'GetSumw2N',\n",
       " 'GetTickLength',\n",
       " 'GetTitle',\n",
       " 'GetTitleFont',\n",
       " 'GetTitleOffset',\n",
       " 'GetTitleSize',\n",
       " 'GetUniqueID',\n",
       " 'GetXaxis',\n",
       " 'GetYaxis',\n",
       " 'GetZaxis',\n",
       " 'HandleTimer',\n",
       " 'HasInconsistentHash',\n",
       " 'Hash',\n",
       " 'ImplFileLine',\n",
       " 'ImplFileName',\n",
       " 'Info',\n",
       " 'InheritsFrom',\n",
       " 'Inspect',\n",
       " 'Integral',\n",
       " 'IntegralAndError',\n",
       " 'Interpolate',\n",
       " 'InvertBit',\n",
       " 'IsA',\n",
       " 'IsBinOverflow',\n",
       " 'IsBinUnderflow',\n",
       " 'IsEqual',\n",
       " 'IsFolder',\n",
       " 'IsHighlight',\n",
       " 'IsOnHeap',\n",
       " 'IsSortable',\n",
       " 'IsTransparent',\n",
       " 'IsZombie',\n",
       " 'KolmogorovTest',\n",
       " 'LabelsDeflate',\n",
       " 'LabelsInflate',\n",
       " 'LabelsOption',\n",
       " 'MayNotUse',\n",
       " 'Merge',\n",
       " 'Modify',\n",
       " 'Multiply',\n",
       " 'Notify',\n",
       " 'Obsolete',\n",
       " 'Paint',\n",
       " 'Pop',\n",
       " 'Print',\n",
       " 'PutStats',\n",
       " 'Read',\n",
       " 'ReadArray',\n",
       " 'Rebin',\n",
       " 'RebinAxis',\n",
       " 'RebinX',\n",
       " 'Rebuild',\n",
       " 'RecursiveRemove',\n",
       " 'Reset',\n",
       " 'ResetAttFill',\n",
       " 'ResetAttLine',\n",
       " 'ResetAttMarker',\n",
       " 'ResetBit',\n",
       " 'ResetStats',\n",
       " 'SaveAs',\n",
       " 'SaveFillAttributes',\n",
       " 'SaveLineAttributes',\n",
       " 'SaveMarkerAttributes',\n",
       " 'SavePrimitive',\n",
       " 'Scale',\n",
       " 'Set',\n",
       " 'SetAt',\n",
       " 'SetAxisColor',\n",
       " 'SetAxisRange',\n",
       " 'SetBarOffset',\n",
       " 'SetBarWidth',\n",
       " 'SetBinContent',\n",
       " 'SetBinError',\n",
       " 'SetBinErrorOption',\n",
       " 'SetBins',\n",
       " 'SetBinsLength',\n",
       " 'SetBit',\n",
       " 'SetBuffer',\n",
       " 'SetCanExtend',\n",
       " 'SetCellContent',\n",
       " 'SetCellError',\n",
       " 'SetContent',\n",
       " 'SetContour',\n",
       " 'SetContourLevel',\n",
       " 'SetDefaultBufferSize',\n",
       " 'SetDefaultSumw2',\n",
       " 'SetDirectory',\n",
       " 'SetDrawOption',\n",
       " 'SetDtorOnly',\n",
       " 'SetEntries',\n",
       " 'SetError',\n",
       " 'SetFillAttributes',\n",
       " 'SetFillColor',\n",
       " 'SetFillColorAlpha',\n",
       " 'SetFillStyle',\n",
       " 'SetHighlight',\n",
       " 'SetLabelColor',\n",
       " 'SetLabelFont',\n",
       " 'SetLabelOffset',\n",
       " 'SetLabelSize',\n",
       " 'SetLineAttributes',\n",
       " 'SetLineColor',\n",
       " 'SetLineColorAlpha',\n",
       " 'SetLineStyle',\n",
       " 'SetLineWidth',\n",
       " 'SetMarkerAttributes',\n",
       " 'SetMarkerColor',\n",
       " 'SetMarkerColorAlpha',\n",
       " 'SetMarkerSize',\n",
       " 'SetMarkerStyle',\n",
       " 'SetMaximum',\n",
       " 'SetMinimum',\n",
       " 'SetName',\n",
       " 'SetNameTitle',\n",
       " 'SetNdivisions',\n",
       " 'SetNormFactor',\n",
       " 'SetObjectStat',\n",
       " 'SetOption',\n",
       " 'SetStatOverflows',\n",
       " 'SetStats',\n",
       " 'SetTickLength',\n",
       " 'SetTitle',\n",
       " 'SetTitleFont',\n",
       " 'SetTitleOffset',\n",
       " 'SetTitleSize',\n",
       " 'SetUniqueID',\n",
       " 'SetXTitle',\n",
       " 'SetYTitle',\n",
       " 'SetZTitle',\n",
       " 'ShowBackground',\n",
       " 'ShowMembers',\n",
       " 'ShowPeaks',\n",
       " 'Sizeof',\n",
       " 'Smooth',\n",
       " 'SmoothArray',\n",
       " 'StatOverflows',\n",
       " 'Streamer',\n",
       " 'StreamerNVirtual',\n",
       " 'Sumw2',\n",
       " 'SysError',\n",
       " 'TestBit',\n",
       " 'TestBits',\n",
       " 'TransformHisto',\n",
       " 'UseCurrentStyle',\n",
       " 'Warning',\n",
       " 'Write',\n",
       " 'WriteArray',\n",
       " '_TArrayF__CheckTObjectHashConsistency',\n",
       " '_TArray__BoundsOk',\n",
       " '_TArray__CheckTObjectHashConsistency',\n",
       " '_TArray__OutOfBoundsError',\n",
       " '_TAttFill__CheckTObjectHashConsistency',\n",
       " '_TAttLine__CheckTObjectHashConsistency',\n",
       " '_TAttMarker__CheckTObjectHashConsistency',\n",
       " '_TH1F__CheckTObjectHashConsistency',\n",
       " '_TH1F__RetrieveBinContent',\n",
       " '_TH1F__UpdateBinContent',\n",
       " '_TH1__AutoP2FindLimits',\n",
       " '_TH1__AutoP2GetBins',\n",
       " '_TH1__AutoP2GetPower2',\n",
       " '_TH1__AxisChoice',\n",
       " '_TH1__BufferFill',\n",
       " '_TH1__Build',\n",
       " '_TH1__CheckAxisLimits',\n",
       " '_TH1__CheckBinLabels',\n",
       " '_TH1__CheckBinLimits',\n",
       " '_TH1__CheckConsistency',\n",
       " '_TH1__CheckConsistentSubAxes',\n",
       " '_TH1__CheckEqualAxes',\n",
       " '_TH1__CheckTObjectHashConsistency',\n",
       " '_TH1__DoFillN',\n",
       " '_TH1__DoIntegral',\n",
       " '_TH1__FindNewAxisLimits',\n",
       " '_TH1__GetBinErrorSqUnchecked',\n",
       " '_TH1__GetStatOverflowsBehaviour',\n",
       " '_TH1__IsEmpty',\n",
       " '_TH1__RecomputeAxisLimits',\n",
       " '_TH1__RetrieveBinContent',\n",
       " '_TH1__SameLimitsAndNBins',\n",
       " '_TH1__SavePrimitiveHelp',\n",
       " '_TH1__UpdateBinContent',\n",
       " '_TH1____assign__',\n",
       " '_TNamed__CheckTObjectHashConsistency',\n",
       " '_TObject__AddToTObjectTable',\n",
       " '_TObject__CheckTObjectHashConsistency',\n",
       " '_TObject__DoError',\n",
       " '_TObject__MakeZombie',\n",
       " '__add__',\n",
       " '__assign__',\n",
       " '__bool__',\n",
       " '__class__',\n",
       " '__cmp__',\n",
       " '__contains__',\n",
       " '__cppname__',\n",
       " '__delattr__',\n",
       " '__destruct__',\n",
       " '__dict__',\n",
       " '__dispatch__',\n",
       " '__div__',\n",
       " '__doc__',\n",
       " '__eq__',\n",
       " '__format__',\n",
       " '__ge__',\n",
       " '__getattribute__',\n",
       " '__getitem__',\n",
       " '__gt__',\n",
       " '__hash__',\n",
       " '__imul__',\n",
       " '__init__',\n",
       " '__le__',\n",
       " '__len__',\n",
       " '__lt__',\n",
       " '__module__',\n",
       " '__mul__',\n",
       " '__ne__',\n",
       " '__new__',\n",
       " '__nonzero__',\n",
       " '__radd__',\n",
       " '__rdiv__',\n",
       " '__reduce__',\n",
       " '__reduce_ex__',\n",
       " '__repr__',\n",
       " '__rmul__',\n",
       " '__rsub__',\n",
       " '__scope__',\n",
       " '__setattr__',\n",
       " '__setitem__',\n",
       " '__sizeof__',\n",
       " '__str__',\n",
       " '__sub__',\n",
       " '__subclasshook__',\n",
       " '__weakref__',\n",
       " '_get_smart_ptr',\n",
       " '_getitem__unchecked',\n",
       " 'fArray',\n",
       " 'fN',\n",
       " 'kAllAxes',\n",
       " 'kAutoBinPTwo',\n",
       " 'kBitMask',\n",
       " 'kCanDelete',\n",
       " 'kCannotPick',\n",
       " 'kConsider',\n",
       " 'kHasUUID',\n",
       " 'kIgnore',\n",
       " 'kInconsistent',\n",
       " 'kInvalidObject',\n",
       " 'kIsAverage',\n",
       " 'kIsHighlight',\n",
       " 'kIsNotW',\n",
       " 'kIsOnHeap',\n",
       " 'kIsReferenced',\n",
       " 'kIsZoomed',\n",
       " 'kLogX',\n",
       " 'kMustCleanup',\n",
       " 'kNeutral',\n",
       " 'kNoAxis',\n",
       " 'kNoContextMenu',\n",
       " 'kNoStats',\n",
       " 'kNoTitle',\n",
       " 'kNormal',\n",
       " 'kNotDeleted',\n",
       " 'kNstat',\n",
       " 'kObjInCanvas',\n",
       " 'kOverwrite',\n",
       " 'kPoisson',\n",
       " 'kPoisson2',\n",
       " 'kSingleKey',\n",
       " 'kUserContour',\n",
       " 'kWriteDelete',\n",
       " 'kXaxis',\n",
       " 'kYaxis',\n",
       " 'kZaxis',\n",
       " 'kZombie',\n",
       " 'ls',\n",
       " 'operator delete',\n",
       " 'operator delete[]',\n",
       " 'operator new',\n",
       " 'operator new[]']"
      ]
     },
     "execution_count": 22,
     "metadata": {},
     "output_type": "execute_result"
    }
   ],
   "source": [
    "from ROOT import TH1F\n",
    "dir(TH1F)"
   ]
  },
  {
   "cell_type": "code",
   "execution_count": 23,
   "metadata": {
    "scrolled": true
   },
   "outputs": [
    {
     "data": {
      "text/html": [
       "\n",
       "<div id=\"root_plot_4\"\n",
       "     style=\"width: 396px; height: 372px\">\n",
       "</div>\n",
       "\n",
       "<script>\n",
       " requirejs.config({\n",
       "     paths: {\n",
       "       'JSRootCore' : 'https://root.cern.ch/js/notebook//scripts/JSRootCore',\n",
       "     }\n",
       "   });\n",
       " require(['JSRootCore'],\n",
       "     function(Core) {\n",
       "       var obj = Core.JSONR_unref({\"_typename\":\"TCanvas\",\"fUniqueID\":0,\"fBits\":53673992,\"fLineColor\":1,\"fLineStyle\":1,\"fLineWidth\":1,\"fFillColor\":0,\"fFillStyle\":1001,\"fLeftMargin\":0.1,\"fRightMargin\":0.1,\"fBottomMargin\":0.1,\"fTopMargin\":0.1,\"fXfile\":2,\"fYfile\":2,\"fAfile\":1,\"fXstat\":0.99,\"fYstat\":0.99,\"fAstat\":2,\"fFrameFillColor\":0,\"fFrameLineColor\":1,\"fFrameFillStyle\":1001,\"fFrameLineStyle\":1,\"fFrameLineWidth\":1,\"fFrameBorderSize\":1,\"fFrameBorderMode\":0,\"fX1\":-12500.0009313226,\"fY1\":-36967.6152543019,\"fX2\":112500.000931323,\"fY2\":332708.515254302,\"fXtoAbsPixelk\":39.600052360344,\"fXtoPixelk\":39.600052360344,\"fXtoPixel\":0.00316799995279312,\"fYtoAbsPixelk\":334.800047782707,\"fYtoPixelk\":334.800047782707,\"fYtoPixel\":-0.00100628623083724,\"fUtoAbsPixelk\":5e-5,\"fUtoPixelk\":5e-5,\"fUtoPixel\":396,\"fVtoAbsPixelk\":372.00005,\"fVtoPixelk\":372,\"fVtoPixel\":-372,\"fAbsPixeltoXk\":-12500.0009313226,\"fPixeltoXk\":-12500.0009313226,\"fPixeltoX\":315.656570360215,\"fAbsPixeltoYk\":332708.515254302,\"fPixeltoYk\":-36967.6152543019,\"fPixeltoY\":-993.753039001623,\"fXlowNDC\":0,\"fYlowNDC\":0,\"fXUpNDC\":0,\"fYUpNDC\":0,\"fWNDC\":1,\"fHNDC\":1,\"fAbsXlowNDC\":0,\"fAbsYlowNDC\":0,\"fAbsWNDC\":1,\"fAbsHNDC\":1,\"fUxmin\":0,\"fUymin\":0,\"fUxmax\":100000,\"fUymax\":295740.9,\"fTheta\":30,\"fPhi\":30,\"fAspectRatio\":0,\"fNumber\":0,\"fTickx\":0,\"fTicky\":0,\"fLogx\":0,\"fLogy\":0,\"fLogz\":0,\"fPadPaint\":0,\"fCrosshair\":0,\"fCrosshairPos\":0,\"fBorderSize\":2,\"fBorderMode\":0,\"fModified\":false,\"fGridx\":false,\"fGridy\":false,\"fAbsCoord\":false,\"fEditable\":true,\"fFixedAspectRatio\":false,\"fPrimitives\":{\"_typename\":\"TList\",\"name\":\"TList\",\"arr\":[{\"_typename\":\"TFrame\",\"fUniqueID\":0,\"fBits\":50331656,\"fLineColor\":1,\"fLineStyle\":1,\"fLineWidth\":1,\"fFillColor\":0,\"fFillStyle\":1001,\"fX1\":0,\"fY1\":0,\"fX2\":100000,\"fY2\":295740.9,\"fBorderSize\":1,\"fBorderMode\":0},{\"_typename\":\"TH1F\",\"fUniqueID\":0,\"fBits\":50331656,\"fName\":\"h1\",\"fTitle\":\"Leading Lepton Pt\",\"fLineColor\":602,\"fLineStyle\":1,\"fLineWidth\":1,\"fFillColor\":0,\"fFillStyle\":1001,\"fMarkerColor\":1,\"fMarkerStyle\":1,\"fMarkerSize\":1,\"fNcells\":102,\"fXaxis\":{\"_typename\":\"TAxis\",\"fUniqueID\":0,\"fBits\":50331648,\"fName\":\"xaxis\",\"fTitle\":\"\",\"fNdivisions\":510,\"fAxisColor\":1,\"fLabelColor\":1,\"fLabelFont\":42,\"fLabelOffset\":0.005,\"fLabelSize\":0.035,\"fTickLength\":0.03,\"fTitleOffset\":1,\"fTitleSize\":0.035,\"fTitleColor\":1,\"fTitleFont\":42,\"fNbins\":100,\"fXmin\":0,\"fXmax\":100000,\"fXbins\":[],\"fFirst\":0,\"fLast\":0,\"fBits2\":0,\"fTimeDisplay\":false,\"fTimeFormat\":\"\",\"fLabels\":null,\"fModLabs\":null},\"fYaxis\":{\"_typename\":\"TAxis\",\"fUniqueID\":0,\"fBits\":50331648,\"fName\":\"yaxis\",\"fTitle\":\"\",\"fNdivisions\":510,\"fAxisColor\":1,\"fLabelColor\":1,\"fLabelFont\":42,\"fLabelOffset\":0.005,\"fLabelSize\":0.035,\"fTickLength\":0.03,\"fTitleOffset\":0,\"fTitleSize\":0.035,\"fTitleColor\":1,\"fTitleFont\":42,\"fNbins\":1,\"fXmin\":0,\"fXmax\":1,\"fXbins\":[],\"fFirst\":0,\"fLast\":0,\"fBits2\":0,\"fTimeDisplay\":false,\"fTimeFormat\":\"\",\"fLabels\":null,\"fModLabs\":null},\"fZaxis\":{\"_typename\":\"TAxis\",\"fUniqueID\":0,\"fBits\":50331648,\"fName\":\"zaxis\",\"fTitle\":\"\",\"fNdivisions\":510,\"fAxisColor\":1,\"fLabelColor\":1,\"fLabelFont\":42,\"fLabelOffset\":0.005,\"fLabelSize\":0.035,\"fTickLength\":0.03,\"fTitleOffset\":1,\"fTitleSize\":0.035,\"fTitleColor\":1,\"fTitleFont\":42,\"fNbins\":1,\"fXmin\":0,\"fXmax\":1,\"fXbins\":[],\"fFirst\":0,\"fLast\":0,\"fBits2\":0,\"fTimeDisplay\":false,\"fTimeFormat\":\"\",\"fLabels\":null,\"fModLabs\":null},\"fBarOffset\":0,\"fBarWidth\":1000,\"fEntries\":7500000,\"fTsumw\":7315989,\"fTsumw2\":7315989,\"fTsumwx\":337769320270.082,\"fTsumwx2\":17021294772847126,\"fMaximum\":-1111,\"fMinimum\":-1111,\"fNormFactor\":0,\"fContour\":[],\"fSumw2\":[],\"fOption\":\"\",\"fFunctions\":{\"_typename\":\"TList\",\"name\":\"TList\",\"arr\":[{\"_typename\":\"TPaveStats\",\"fUniqueID\":0,\"fBits\":50331657,\"fLineColor\":1,\"fLineStyle\":1,\"fLineWidth\":1,\"fFillColor\":0,\"fFillStyle\":1001,\"fX1\":85000.0025331975,\"fY1\":249531.388093307,\"fX2\":110000.003278256,\"fY2\":308679.567652619,\"fX1NDC\":0.780000016093254,\"fY1NDC\":0.775000005960464,\"fX2NDC\":0.980000019073486,\"fY2NDC\":0.935000002384186,\"fBorderSize\":1,\"fInit\":1,\"fShadowColor\":1,\"fCornerRadius\":0,\"fOption\":\"brNDC\",\"fName\":\"stats\",\"fTextAngle\":0,\"fTextSize\":0,\"fTextAlign\":12,\"fTextColor\":1,\"fTextFont\":42,\"fLabel\":\"\",\"fLongest\":21,\"fMargin\":0.05,\"fLines\":{\"_typename\":\"TList\",\"name\":\"TList\",\"arr\":[{\"_typename\":\"TLatex\",\"fUniqueID\":0,\"fBits\":50331648,\"fName\":\"\",\"fTitle\":\"h1\",\"fTextAngle\":0,\"fTextSize\":0.0368,\"fTextAlign\":0,\"fTextColor\":0,\"fTextFont\":0,\"fX\":0,\"fY\":0,\"fLineColor\":1,\"fLineStyle\":1,\"fLineWidth\":2,\"fLimitFactorSize\":3,\"fOriginSize\":0.0368000008165836},{\"_typename\":\"TLatex\",\"fUniqueID\":0,\"fBits\":50331648,\"fName\":\"\",\"fTitle\":\"Entries = 7500000\",\"fTextAngle\":0,\"fTextSize\":0,\"fTextAlign\":0,\"fTextColor\":0,\"fTextFont\":0,\"fX\":0,\"fY\":0,\"fLineColor\":1,\"fLineStyle\":1,\"fLineWidth\":2,\"fLimitFactorSize\":3,\"fOriginSize\":0.04},{\"_typename\":\"TLatex\",\"fUniqueID\":0,\"fBits\":50331648,\"fName\":\"\",\"fTitle\":\"Mean  = 4.617e+04\",\"fTextAngle\":0,\"fTextSize\":0,\"fTextAlign\":0,\"fTextColor\":0,\"fTextFont\":0,\"fX\":0,\"fY\":0,\"fLineColor\":1,\"fLineStyle\":1,\"fLineWidth\":2,\"fLimitFactorSize\":3,\"fOriginSize\":0.04},{\"_typename\":\"TLatex\",\"fUniqueID\":0,\"fBits\":50331648,\"fName\":\"\",\"fTitle\":\"Std Dev   = 1.397e+04\",\"fTextAngle\":0,\"fTextSize\":0,\"fTextAlign\":0,\"fTextColor\":0,\"fTextFont\":0,\"fX\":0,\"fY\":0,\"fLineColor\":1,\"fLineStyle\":1,\"fLineWidth\":2,\"fLimitFactorSize\":3,\"fOriginSize\":0.04}],\"opt\":[\"\",\"\",\"\",\"\"]},\"fOptFit\":0,\"fOptStat\":1111,\"fFitFormat\":\"5.4g\",\"fStatFormat\":\"6.4g\",\"fParent\":{\"$ref\":3}}],\"opt\":[\"brNDC\"]},\"fBufferSize\":0,\"fBuffer\":[],\"fBinStatErrOpt\":0,\"fStatOverflows\":2,\"fArray\":[0,0,0,0,0,0,0,0,0,0,0,0,0,0,0,0,0,0,0,0,0,0,0,0,0,0,137663,142734,147877,152667,157725,162524,167868,171597,176968,182623,187649,193865,199760,204669,211318,219172,226939,238172,252453,268126,281658,279831,259625,234176,209819,185779,166357,149840,134723,121709,110182,101457,92898,84790,77488,71743,65630,60636,56551,52544,48905,45619,42394,39738,36958,34435,32536,30216,28491,27019,25280,23733,22254,21033,19800,19006,17681,16902,15905,15044,14333,13522,12908,12067,11568,11031,10217,9786,9537,8989,8620,8236,7730,7453,7238,184011]},{\"_typename\":\"TPaveText\",\"fUniqueID\":0,\"fBits\":50331657,\"fLineColor\":1,\"fLineStyle\":1,\"fLineWidth\":1,\"fFillColor\":0,\"fFillStyle\":0,\"fX1\":22550.5046414757,\"fY1\":308202.567075275,\"fX2\":77449.4953585243,\"fY2\":330860.136364512,\"fX1NDC\":0.28040404040404,\"fY1NDC\":0.933709682187727,\"fX2NDC\":0.71959595959596,\"fY2NDC\":0.995000004768372,\"fBorderSize\":0,\"fInit\":1,\"fShadowColor\":1,\"fCornerRadius\":0,\"fOption\":\"blNDC\",\"fName\":\"title\",\"fTextAngle\":0,\"fTextSize\":0,\"fTextAlign\":22,\"fTextColor\":1,\"fTextFont\":42,\"fLabel\":\"\",\"fLongest\":17,\"fMargin\":0.05,\"fLines\":{\"_typename\":\"TList\",\"name\":\"TList\",\"arr\":[{\"_typename\":\"TLatex\",\"fUniqueID\":0,\"fBits\":50331648,\"fName\":\"\",\"fTitle\":\"Leading Lepton Pt\",\"fTextAngle\":0,\"fTextSize\":0,\"fTextAlign\":0,\"fTextColor\":0,\"fTextFont\":0,\"fX\":0,\"fY\":0,\"fLineColor\":1,\"fLineStyle\":1,\"fLineWidth\":2,\"fLimitFactorSize\":3,\"fOriginSize\":0.0520967729389668}],\"opt\":[\"\"]}}],\"opt\":[\"\",\"\",\"blNDC\"]},\"fExecs\":null,\"fName\":\"c1\",\"fTitle\":\"My Canvas\",\"fNumPaletteColor\":0,\"fNextPaletteColor\":0,\"fDISPLAY\":\"$DISPLAY\",\"fDoubleBuffer\":0,\"fRetained\":true,\"fXsizeUser\":0,\"fYsizeUser\":0,\"fXsizeReal\":20,\"fYsizeReal\":20,\"fWindowTopX\":0,\"fWindowTopY\":0,\"fWindowWidth\":0,\"fWindowHeight\":0,\"fCw\":396,\"fCh\":372,\"fCatt\":{\"_typename\":\"TAttCanvas\",\"fXBetween\":2,\"fYBetween\":2,\"fTitleFromTop\":1.2,\"fXdate\":0.2,\"fYdate\":0.3,\"fAdate\":1},\"kMoveOpaque\":true,\"kResizeOpaque\":true,\"fHighLightColor\":2,\"fBatch\":true,\"kShowEventStatus\":false,\"kAutoExec\":true,\"kMenuBar\":true});\n",
       "       Core.draw(\"root_plot_4\", obj, \"\");\n",
       "     }\n",
       " );\n",
       "</script>\n"
      ],
      "text/plain": [
       "<IPython.core.display.HTML object>"
      ]
     },
     "metadata": {},
     "output_type": "display_data"
    }
   ],
   "source": [
    "h1 = TH1F(\"h1\",\"Leading Lepton Pt\",100,0,100000);\n",
    "t1.Draw(\"lep_pt[0]>>h1\");\n",
    "h1.Draw()\n",
    "c1.Draw()"
   ]
  },
  {
   "cell_type": "markdown",
   "metadata": {},
   "source": [
    "Exercise ... Replicate the CINT/CLING in PyROOT"
   ]
  },
  {
   "cell_type": "markdown",
   "metadata": {},
   "source": [
    "## Plot non standard variable"
   ]
  },
  {
   "cell_type": "markdown",
   "metadata": {},
   "source": [
    "Access in PyROOT the TTree contents"
   ]
  },
  {
   "cell_type": "code",
   "execution_count": 27,
   "metadata": {},
   "outputs": [
    {
     "name": "stdout",
     "output_type": "stream",
     "text": [
      " Looping on  10000  entries\n"
     ]
    },
    {
     "name": "stderr",
     "output_type": "stream",
     "text": [
      "Warning in <TFile::Append>: Replacing existing TH1: h_mumu (Potential memory leak).\n"
     ]
    },
    {
     "data": {
      "text/html": [
       "\n",
       "<div id=\"root_plot_5\"\n",
       "     style=\"width: 396px; height: 372px\">\n",
       "</div>\n",
       "\n",
       "<script>\n",
       " requirejs.config({\n",
       "     paths: {\n",
       "       'JSRootCore' : 'https://root.cern.ch/js/notebook//scripts/JSRootCore',\n",
       "     }\n",
       "   });\n",
       " require(['JSRootCore'],\n",
       "     function(Core) {\n",
       "       var obj = Core.JSONR_unref({\"_typename\":\"TCanvas\",\"fUniqueID\":0,\"fBits\":53673992,\"fLineColor\":1,\"fLineStyle\":1,\"fLineWidth\":1,\"fFillColor\":0,\"fFillStyle\":1001,\"fLeftMargin\":0.1,\"fRightMargin\":0.1,\"fBottomMargin\":0.1,\"fTopMargin\":0.1,\"fXfile\":2,\"fYfile\":2,\"fAfile\":1,\"fXstat\":0.99,\"fYstat\":0.99,\"fAstat\":2,\"fFrameFillColor\":0,\"fFrameLineColor\":1,\"fFrameFillStyle\":1001,\"fFrameLineStyle\":1,\"fFrameLineWidth\":1,\"fFrameBorderSize\":1,\"fFrameBorderMode\":0,\"fX1\":37.4999990686774,\"fY1\":-442.050032935293,\"fX2\":162.500000931323,\"fY2\":3978.45003293529,\"fXtoAbsPixelk\":-118.799945279312,\"fXtoPixelk\":-118.799945279312,\"fXtoPixel\":3.16799995279312,\"fYtoAbsPixelk\":334.800047782707,\"fYtoPixelk\":334.800047782707,\"fYtoPixel\":-0.0841533750609134,\"fUtoAbsPixelk\":5e-5,\"fUtoPixelk\":5e-5,\"fUtoPixel\":396,\"fVtoAbsPixelk\":372.00005,\"fVtoPixelk\":372,\"fVtoPixel\":-372,\"fAbsPixeltoXk\":37.4999990686774,\"fPixeltoXk\":37.4999990686774,\"fPixeltoX\":0.315656570360215,\"fAbsPixeltoYk\":3978.45003293529,\"fPixeltoYk\":-442.050032935293,\"fPixeltoY\":-11.8830646932005,\"fXlowNDC\":0,\"fYlowNDC\":0,\"fXUpNDC\":0,\"fYUpNDC\":0,\"fWNDC\":1,\"fHNDC\":1,\"fAbsXlowNDC\":0,\"fAbsYlowNDC\":0,\"fAbsWNDC\":1,\"fAbsHNDC\":1,\"fUxmin\":50,\"fUymin\":0,\"fUxmax\":150,\"fUymax\":3536.4,\"fTheta\":30,\"fPhi\":30,\"fAspectRatio\":0,\"fNumber\":0,\"fTickx\":0,\"fTicky\":0,\"fLogx\":0,\"fLogy\":0,\"fLogz\":0,\"fPadPaint\":0,\"fCrosshair\":0,\"fCrosshairPos\":0,\"fBorderSize\":2,\"fBorderMode\":0,\"fModified\":false,\"fGridx\":false,\"fGridy\":false,\"fAbsCoord\":false,\"fEditable\":true,\"fFixedAspectRatio\":false,\"fPrimitives\":{\"_typename\":\"TList\",\"name\":\"TList\",\"arr\":[{\"_typename\":\"TFrame\",\"fUniqueID\":0,\"fBits\":50331656,\"fLineColor\":1,\"fLineStyle\":1,\"fLineWidth\":1,\"fFillColor\":0,\"fFillStyle\":1001,\"fX1\":50,\"fY1\":0,\"fX2\":150,\"fY2\":3536.4,\"fBorderSize\":1,\"fBorderMode\":0},{\"_typename\":\"TH1F\",\"fUniqueID\":0,\"fBits\":50331656,\"fName\":\"h_mumu\",\"fTitle\":\"Invariant mass\",\"fLineColor\":602,\"fLineStyle\":1,\"fLineWidth\":1,\"fFillColor\":0,\"fFillStyle\":1001,\"fMarkerColor\":1,\"fMarkerStyle\":1,\"fMarkerSize\":1,\"fNcells\":52,\"fXaxis\":{\"_typename\":\"TAxis\",\"fUniqueID\":0,\"fBits\":50331648,\"fName\":\"xaxis\",\"fTitle\":\"\",\"fNdivisions\":510,\"fAxisColor\":1,\"fLabelColor\":1,\"fLabelFont\":42,\"fLabelOffset\":0.005,\"fLabelSize\":0.035,\"fTickLength\":0.03,\"fTitleOffset\":1,\"fTitleSize\":0.035,\"fTitleColor\":1,\"fTitleFont\":42,\"fNbins\":50,\"fXmin\":50,\"fXmax\":150,\"fXbins\":[],\"fFirst\":0,\"fLast\":0,\"fBits2\":0,\"fTimeDisplay\":false,\"fTimeFormat\":\"\",\"fLabels\":null,\"fModLabs\":null},\"fYaxis\":{\"_typename\":\"TAxis\",\"fUniqueID\":0,\"fBits\":50331648,\"fName\":\"yaxis\",\"fTitle\":\"\",\"fNdivisions\":510,\"fAxisColor\":1,\"fLabelColor\":1,\"fLabelFont\":42,\"fLabelOffset\":0.005,\"fLabelSize\":0.035,\"fTickLength\":0.03,\"fTitleOffset\":0,\"fTitleSize\":0.035,\"fTitleColor\":1,\"fTitleFont\":42,\"fNbins\":1,\"fXmin\":0,\"fXmax\":1,\"fXbins\":[],\"fFirst\":0,\"fLast\":0,\"fBits2\":0,\"fTimeDisplay\":false,\"fTimeFormat\":\"\",\"fLabels\":null,\"fModLabs\":null},\"fZaxis\":{\"_typename\":\"TAxis\",\"fUniqueID\":0,\"fBits\":50331648,\"fName\":\"zaxis\",\"fTitle\":\"\",\"fNdivisions\":510,\"fAxisColor\":1,\"fLabelColor\":1,\"fLabelFont\":42,\"fLabelOffset\":0.005,\"fLabelSize\":0.035,\"fTickLength\":0.03,\"fTitleOffset\":1,\"fTitleSize\":0.035,\"fTitleColor\":1,\"fTitleFont\":42,\"fNbins\":1,\"fXmin\":0,\"fXmax\":1,\"fXbins\":[],\"fFirst\":0,\"fLast\":0,\"fBits2\":0,\"fTimeDisplay\":false,\"fTimeFormat\":\"\",\"fLabels\":null,\"fModLabs\":null},\"fBarOffset\":0,\"fBarWidth\":1000,\"fEntries\":14442,\"fTsumw\":13782,\"fTsumw2\":13782,\"fTsumwx\":1233793.47360635,\"fTsumwx2\":111617020.437026,\"fMaximum\":-1111,\"fMinimum\":-1111,\"fNormFactor\":0,\"fContour\":[],\"fSumw2\":[],\"fOption\":\"\",\"fFunctions\":{\"_typename\":\"TList\",\"name\":\"TList\",\"arr\":[{\"_typename\":\"TPaveStats\",\"fUniqueID\":0,\"fBits\":50331657,\"fLineColor\":1,\"fLineStyle\":1,\"fLineWidth\":1,\"fFillColor\":0,\"fFillStyle\":1001,\"fX1\":135.000002533197,\"fY1\":2983.83754446264,\"fX2\":160.000003278256,\"fY2\":3691.117539193,\"fX1NDC\":0.780000016093254,\"fY1NDC\":0.775000005960464,\"fX2NDC\":0.980000019073486,\"fY2NDC\":0.935000002384186,\"fBorderSize\":1,\"fInit\":1,\"fShadowColor\":1,\"fCornerRadius\":0,\"fOption\":\"brNDC\",\"fName\":\"stats\",\"fTextAngle\":0,\"fTextSize\":0,\"fTextAlign\":12,\"fTextColor\":1,\"fTextFont\":42,\"fLabel\":\"\",\"fLongest\":18,\"fMargin\":0.05,\"fLines\":{\"_typename\":\"TList\",\"name\":\"TList\",\"arr\":[{\"_typename\":\"TLatex\",\"fUniqueID\":0,\"fBits\":50331648,\"fName\":\"\",\"fTitle\":\"h_mumu\",\"fTextAngle\":0,\"fTextSize\":0.0368,\"fTextAlign\":0,\"fTextColor\":0,\"fTextFont\":0,\"fX\":0,\"fY\":0,\"fLineColor\":1,\"fLineStyle\":1,\"fLineWidth\":2,\"fLimitFactorSize\":3,\"fOriginSize\":0.0368000008165836},{\"_typename\":\"TLatex\",\"fUniqueID\":0,\"fBits\":50331648,\"fName\":\"\",\"fTitle\":\"Entries = 14442  \",\"fTextAngle\":0,\"fTextSize\":0,\"fTextAlign\":0,\"fTextColor\":0,\"fTextFont\":0,\"fX\":0,\"fY\":0,\"fLineColor\":1,\"fLineStyle\":1,\"fLineWidth\":2,\"fLimitFactorSize\":3,\"fOriginSize\":0.04},{\"_typename\":\"TLatex\",\"fUniqueID\":0,\"fBits\":50331648,\"fName\":\"\",\"fTitle\":\"Mean  =  89.52\",\"fTextAngle\":0,\"fTextSize\":0,\"fTextAlign\":0,\"fTextColor\":0,\"fTextFont\":0,\"fX\":0,\"fY\":0,\"fLineColor\":1,\"fLineStyle\":1,\"fLineWidth\":2,\"fLimitFactorSize\":3,\"fOriginSize\":0.04},{\"_typename\":\"TLatex\",\"fUniqueID\":0,\"fBits\":50331648,\"fName\":\"\",\"fTitle\":\"Std Dev   =  9.195\",\"fTextAngle\":0,\"fTextSize\":0,\"fTextAlign\":0,\"fTextColor\":0,\"fTextFont\":0,\"fX\":0,\"fY\":0,\"fLineColor\":1,\"fLineStyle\":1,\"fLineWidth\":2,\"fLimitFactorSize\":3,\"fOriginSize\":0.04}],\"opt\":[\"\",\"\",\"\",\"\"]},\"fOptFit\":0,\"fOptStat\":1111,\"fFitFormat\":\"5.4g\",\"fStatFormat\":\"6.4g\",\"fParent\":{\"$ref\":3}}],\"opt\":[\"brNDC\"]},\"fBufferSize\":0,\"fBuffer\":[],\"fBinStatErrOpt\":0,\"fStatOverflows\":2,\"fArray\":[588,74,52,58,68,54,60,30,48,60,60,70,88,88,132,146,244,318,582,1254,2654,3368,2114,1020,362,206,128,88,38,52,38,24,26,24,22,18,16,6,6,6,10,6,4,6,8,6,16,2,8,6,8,72]},{\"_typename\":\"TPaveText\",\"fUniqueID\":0,\"fBits\":50331657,\"fLineColor\":1,\"fLineStyle\":1,\"fLineWidth\":1,\"fFillColor\":0,\"fFillStyle\":0,\"fX1\":77.7588380524192,\"fY1\":3713.22004643876,\"fX2\":122.241161947581,\"fY2\":3956.34755368453,\"fX1NDC\":0.322070707070707,\"fY1NDC\":0.940000003948808,\"fX2NDC\":0.677929292929293,\"fY2NDC\":0.995000004768372,\"fBorderSize\":0,\"fInit\":1,\"fShadowColor\":1,\"fCornerRadius\":0,\"fOption\":\"blNDC\",\"fName\":\"title\",\"fTextAngle\":0,\"fTextSize\":0,\"fTextAlign\":22,\"fTextColor\":1,\"fTextFont\":42,\"fLabel\":\"\",\"fLongest\":14,\"fMargin\":0.05,\"fLines\":{\"_typename\":\"TList\",\"name\":\"TList\",\"arr\":[{\"_typename\":\"TLatex\",\"fUniqueID\":0,\"fBits\":50331648,\"fName\":\"\",\"fTitle\":\"Invariant mass\",\"fTextAngle\":0,\"fTextSize\":0,\"fTextAlign\":0,\"fTextColor\":0,\"fTextFont\":0,\"fX\":0,\"fY\":0,\"fLineColor\":1,\"fLineStyle\":1,\"fLineWidth\":2,\"fLimitFactorSize\":3,\"fOriginSize\":0.0467500016093254}],\"opt\":[\"\"]}}],\"opt\":[\"\",\"\",\"blNDC\"]},\"fExecs\":null,\"fName\":\"c1\",\"fTitle\":\"My Canvas\",\"fNumPaletteColor\":0,\"fNextPaletteColor\":0,\"fDISPLAY\":\"$DISPLAY\",\"fDoubleBuffer\":0,\"fRetained\":true,\"fXsizeUser\":0,\"fYsizeUser\":0,\"fXsizeReal\":20,\"fYsizeReal\":20,\"fWindowTopX\":0,\"fWindowTopY\":0,\"fWindowWidth\":0,\"fWindowHeight\":0,\"fCw\":396,\"fCh\":372,\"fCatt\":{\"_typename\":\"TAttCanvas\",\"fXBetween\":2,\"fYBetween\":2,\"fTitleFromTop\":1.2,\"fXdate\":0.2,\"fYdate\":0.3,\"fAdate\":1},\"kMoveOpaque\":true,\"kResizeOpaque\":true,\"fHighLightColor\":2,\"fBatch\":true,\"kShowEventStatus\":false,\"kAutoExec\":true,\"kMenuBar\":true});\n",
       "       Core.draw(\"root_plot_5\", obj, \"\");\n",
       "     }\n",
       " );\n",
       "</script>\n"
      ],
      "text/plain": [
       "<IPython.core.display.HTML object>"
      ]
     },
     "metadata": {},
     "output_type": "display_data"
    }
   ],
   "source": [
    "#t1 = my_file.Get(\"mini\")\n",
    "#t1.ls()\n",
    "#t1.Print()\n",
    "\n",
    "from ROOT import TLorentzVector\n",
    "\n",
    "h_mumu= ROOT.TH1F(\"h_mumu\",\"Invariant mass\",50,50,150);\n",
    "N = t1.GetEntries()\n",
    "#t1.SetBranchStatus(\"*\",0)\n",
    "#t1.SetBranchStatus(\"lep_pt\",1)\n",
    "#t1.SetBranchStatus(\"lep_eta\",1)\n",
    "#t1.SetBranchStatus(\"lep_phi\",1)\n",
    "#t1.SetBranchStatus(\"lep_E\",1)\n",
    "num_evt = lambda  x: x if x<10000 else 10000\n",
    "print \"Looping on \", num_evt(N), \" entries\"\n",
    "for i in xrange(num_evt(N)):\n",
    "    t1.GetEntry(i)\n",
    "\n",
    "    for ilep in xrange(t1.lep_n):\n",
    "        ivec = TLorentzVector()\n",
    "        ivec.SetPtEtaPhiE(t1.lep_pt[ilep],t1.lep_eta[ilep],t1.lep_phi[ilep],t1.lep_E[ilep])\n",
    "        for jlep in xrange(t1.lep_n):\n",
    "            if ilep==jlep:\n",
    "                continue\n",
    "            jvec = TLorentzVector()\n",
    "            jvec.SetPtEtaPhiE(t1.lep_pt[jlep],t1.lep_eta[jlep],t1.lep_phi[jlep],t1.lep_E[jlep])\n",
    "            inv_mass = (ivec+jvec).Mag()\n",
    "            h_mumu.Fill(inv_mass/1000.)\n",
    "\n",
    "\n",
    "\n",
    "c1.cd()\n",
    "h_mumu.Draw()\n",
    "c1.Draw()"
   ]
  },
  {
   "cell_type": "markdown",
   "metadata": {},
   "source": [
    "## Write many histograms to a file"
   ]
  },
  {
   "cell_type": "code",
   "execution_count": 6,
   "metadata": {},
   "outputs": [
    {
     "name": "stderr",
     "output_type": "stream",
     "text": [
      "Info in <TCanvas::MakeDefCanvas>:  created default TCanvas with name c1\n"
     ]
    }
   ],
   "source": [
    "from ROOT import TH1F\n",
    "my_file_list = [\"data/mc_117049.ttbar_had.root\",\"data/mc_117050.ttbar_lep.root\"]\n",
    "iff = int(0)\n",
    "my_new_file =TFile(\"histo_py.root\", \"recreate\")\n",
    "for ifile in my_file_list:\n",
    "    my_file = TFile(ifile,\"READ\")\n",
    "    my_tree = my_file.Get(\"mini\")\n",
    "    h1_str = \"h1_\"+str(iff)\n",
    "    h1 = TH1F(h1_str,\"pt leading lepton\",100,0,100)\n",
    "    iff = int(iff)+1\n",
    "    command_str = \"lep_pt[0]/1000.>>\"+h1_str\n",
    "    my_tree.Draw(command_str)\n",
    "    my_new_file.cd()\n",
    "    h1.Write()\n",
    "    \n",
    "\n",
    "my_new_file.Write()\n",
    "my_new_file.Close()"
   ]
  },
  {
   "cell_type": "markdown",
   "metadata": {},
   "source": [
    "## Read many histograms from a file\n"
   ]
  },
  {
   "cell_type": "code",
   "execution_count": 11,
   "metadata": {},
   "outputs": [
    {
     "name": "stdout",
     "output_type": "stream",
     "text": [
      "Total number of histo is:  2  Total number of rows 1\n"
     ]
    },
    {
     "name": "stderr",
     "output_type": "stream",
     "text": [
      "Warning in <TCanvas::Constructor>: Deleting canvas with same name: c1\n"
     ]
    },
    {
     "data": {
      "image/png": "[encoded data removed]",
      "text/plain": [
       "<IPython.core.display.Image object>"
      ]
     },
     "metadata": {},
     "output_type": "display_data"
    },
    {
     "data": {
      "image/png": "[encoded data removed]",
      "text/plain": [
       "<IPython.core.display.Image object>"
      ]
     },
     "metadata": {},
     "output_type": "display_data"
    }
   ],
   "source": [
    "my_file =TFile(\"histo_py.root\", \"READ\")\n",
    "from ROOT import TCanvas\n",
    "hnames = []\n",
    "histo_num=0\n",
    "for key in my_file.GetListOfKeys():\n",
    "    h = key.ReadObj()\n",
    "    if h.ClassName() == 'TH1F' or h.ClassName() == 'TH2F':\n",
    "        hnames.append(h.GetName())\n",
    "        histo_num = histo_num+1\n",
    "\n",
    "\n",
    "c1 = TCanvas(\"c1\",\"Many Histo PyRoot\")\n",
    "num_row = histo_num/2\n",
    "num_row = int(num_row+0.5)\n",
    "c1.Divide(2,num_row)\n",
    "\n",
    "print \"Total number of histo is: \", histo_num, \" Total number of rows\", num_row \n",
    "histo_num1=1\n",
    "for ihisto in hnames:\n",
    "    c1.cd(histo_num1)\n",
    "    h1 = my_file.Get(ihisto)\n",
    "    h1.Draw()\n",
    "    histo_num1 = histo_num1+1\n",
    "c1.Draw()\n",
    "\n",
    "\n",
    "histo_num2=1\n",
    "c2 = TCanvas(\"c2\",\"Stacked Histo\")\n",
    "ths1 = ROOT.THStack(\"hs\",\"My Stacked histo\")\n",
    "for ihisto in hnames:\n",
    "    h1 = my_file.Get(ihisto)\n",
    "    h1.SetFillColor(histo_num2+1)\n",
    "    ths1.Add(h1)\n",
    "    histo_num2 = histo_num2+1\n",
    "ths1.Draw()\n",
    "c2.Draw()\n",
    "\n"
   ]
  },
  {
   "cell_type": "markdown",
   "metadata": {},
   "source": [
    "## Input/Output to TFile"
   ]
  },
  {
   "cell_type": "markdown",
   "metadata": {},
   "source": [
    "Writing to file is simple. Just open a TFile with NEW or RECREATE option"
   ]
  },
  {
   "cell_type": "code",
   "execution_count": null,
   "metadata": {},
   "outputs": [],
   "source": [
    "def writeHisto(outputFileName):\n",
    "    outputFile = ROOT.TFile(outputFileName, \"RECREATE\")\n",
    "    # now we write to the file\n",
    "    h1.Write()"
   ]
  },
  {
   "cell_type": "code",
   "execution_count": null,
   "metadata": {},
   "outputs": [],
   "source": [
    "writeHisto(\"data/outputPyRoot.root\")"
   ]
  },
  {
   "cell_type": "code",
   "execution_count": null,
   "metadata": {},
   "outputs": [],
   "source": [
    "%%bash\n",
    "rootls -l data/outputPyRoot.root"
   ]
  },
  {
   "cell_type": "code",
   "execution_count": null,
   "metadata": {},
   "outputs": [],
   "source": [
    "inputFile = ROOT.TFile(\"data/outputPyRoot.root\")\n",
    "h = inputFile.h1\n",
    "c = ROOT.TCanvas()\n",
    "h.Draw()\n",
    "c.Draw()"
   ]
  },
  {
   "cell_type": "code",
   "execution_count": 4,
   "metadata": {},
   "outputs": [],
   "source": [
    "%edit scripts/PyRootLoopTree.py"
   ]
  },
  {
   "cell_type": "code",
   "execution_count": 5,
   "metadata": {
    "scrolled": true
   },
   "outputs": [
    {
     "name": "stderr",
     "output_type": "stream",
     "text": [
      "UsageError: %%file is a cell magic, but the cell body is empty.\n"
     ]
    }
   ],
   "source": [
    "%%file scripts/PyRootLoopTree.py"
   ]
  },
  {
   "cell_type": "markdown",
   "metadata": {},
   "source": [
    "## Create a subsample of event file "
   ]
  },
  {
   "cell_type": "code",
   "execution_count": 4,
   "metadata": {},
   "outputs": [
    {
     "name": "stdout",
     "output_type": "stream",
     "text": [
      "******************************************************************************\n",
      "*Tree    :mini      : 4-vectors + variables required for scaling factors     *\n",
      "*Entries :        0 : Total =           24844 bytes  File  Size =          0 *\n",
      "*        :          : Tree compression factor =   1.00                       *\n",
      "******************************************************************************\n",
      "*Br    0 :runNumber : runNumber/I                                            *\n",
      "*Entries :        0 : Total  Size=        501 bytes  One basket in memory    *\n",
      "*Baskets :        0 : Basket Size=     860672 bytes  Compression=   1.00     *\n",
      "*............................................................................*\n",
      "*Br    1 :eventNumber : eventNumber/I                                        *\n",
      "*Entries :        0 : Total  Size=        509 bytes  One basket in memory    *\n",
      "*Baskets :        0 : Basket Size=     860672 bytes  Compression=   1.00     *\n",
      "*............................................................................*\n",
      "*Br    2 :channelNumber : channelNumber/I                                    *\n",
      "*Entries :        0 : Total  Size=        517 bytes  One basket in memory    *\n",
      "*Baskets :        0 : Basket Size=     860672 bytes  Compression=   1.00     *\n",
      "*............................................................................*\n",
      "*Br    3 :mcWeight  : mcWeight/F                                             *\n",
      "*Entries :        0 : Total  Size=        497 bytes  One basket in memory    *\n",
      "*Baskets :        0 : Basket Size=     860672 bytes  Compression=   1.00     *\n",
      "*............................................................................*\n",
      "*Br    4 :pvxp_n    : pvxp_n/I                                               *\n",
      "*Entries :        0 : Total  Size=        489 bytes  One basket in memory    *\n",
      "*Baskets :        0 : Basket Size=     860672 bytes  Compression=   1.00     *\n",
      "*............................................................................*\n",
      "*Br    5 :vxp_z     : vxp_z/F                                                *\n",
      "*Entries :        0 : Total  Size=        485 bytes  One basket in memory    *\n",
      "*Baskets :        0 : Basket Size=     860672 bytes  Compression=   1.00     *\n",
      "*............................................................................*\n",
      "*Br    6 :scaleFactor_PILEUP : scaleFactor_PILEUP/F                          *\n",
      "*Entries :        0 : Total  Size=        537 bytes  One basket in memory    *\n",
      "*Baskets :        0 : Basket Size=     860672 bytes  Compression=   1.00     *\n",
      "*............................................................................*\n",
      "*Br    7 :scaleFactor_ELE : scaleFactor_ELE/F                                *\n",
      "*Entries :        0 : Total  Size=        525 bytes  One basket in memory    *\n",
      "*Baskets :        0 : Basket Size=     860672 bytes  Compression=   1.00     *\n",
      "*............................................................................*\n",
      "*Br    8 :scaleFactor_MUON : scaleFactor_MUON/F                              *\n",
      "*Entries :        0 : Total  Size=        529 bytes  One basket in memory    *\n",
      "*Baskets :        0 : Basket Size=     860672 bytes  Compression=   1.00     *\n",
      "*............................................................................*\n",
      "*Br    9 :scaleFactor_BTAG : scaleFactor_BTAG/F                              *\n",
      "*Entries :        0 : Total  Size=        529 bytes  One basket in memory    *\n",
      "*Baskets :        0 : Basket Size=     860672 bytes  Compression=   1.00     *\n",
      "*............................................................................*\n",
      "*Br   10 :scaleFactor_TRIGGER : scaleFactor_TRIGGER/F                        *\n",
      "*Entries :        0 : Total  Size=        541 bytes  One basket in memory    *\n",
      "*Baskets :        0 : Basket Size=     860672 bytes  Compression=   1.00     *\n",
      "*............................................................................*\n",
      "*Br   11 :scaleFactor_JVFSF : scaleFactor_JVFSF/F                            *\n",
      "*Entries :        0 : Total  Size=        533 bytes  One basket in memory    *\n",
      "*Baskets :        0 : Basket Size=     860672 bytes  Compression=   1.00     *\n",
      "*............................................................................*\n",
      "*Br   12 :scaleFactor_ZVERTEX : scaleFactor_ZVERTEX/F                        *\n",
      "*Entries :        0 : Total  Size=        541 bytes  One basket in memory    *\n",
      "*Baskets :        0 : Basket Size=     860672 bytes  Compression=   1.00     *\n",
      "*............................................................................*\n",
      "*Br   13 :trigE     : trigE/O                                                *\n",
      "*Entries :        0 : Total  Size=        479 bytes  One basket in memory    *\n",
      "*Baskets :        0 : Basket Size=      19968 bytes  Compression=   1.00     *\n",
      "*............................................................................*\n",
      "*Br   14 :trigM     : trigM/O                                                *\n",
      "*Entries :        0 : Total  Size=        479 bytes  One basket in memory    *\n",
      "*Baskets :        0 : Basket Size=      19968 bytes  Compression=   1.00     *\n",
      "*............................................................................*\n",
      "*Br   15 :passGRL   : passGRL/O                                              *\n",
      "*Entries :        0 : Total  Size=        487 bytes  One basket in memory    *\n",
      "*Baskets :        0 : Basket Size=      19968 bytes  Compression=   1.00     *\n",
      "*............................................................................*\n",
      "*Br   16 :hasGoodVertex : hasGoodVertex/O                                    *\n",
      "*Entries :        0 : Total  Size=        511 bytes  One basket in memory    *\n",
      "*Baskets :        0 : Basket Size=      19968 bytes  Compression=   1.00     *\n",
      "*............................................................................*\n",
      "*Br   17 :lep_n     : lep_n/i                                                *\n",
      "*Entries :        0 : Total  Size=        485 bytes  One basket in memory    *\n",
      "*Baskets :        0 : Basket Size=     860672 bytes  Compression=   1.00     *\n",
      "*............................................................................*\n",
      "*Br   18 :lep_truthMatched : lep_truthMatched[lep_n]/O                       *\n",
      "*Entries :        0 : Total  Size=        614 bytes  One basket in memory    *\n",
      "*Baskets :        0 : Basket Size=     860672 bytes  Compression=   1.00     *\n",
      "*............................................................................*\n",
      "*Br   19 :lep_trigMatched : lep_trigMatched[lep_n]/s                         *\n",
      "*Entries :        0 : Total  Size=        612 bytes  One basket in memory    *\n",
      "*Baskets :        0 : Basket Size=     860672 bytes  Compression=   1.00     *\n",
      "*............................................................................*\n",
      "*Br   20 :lep_pt    : lep_pt[lep_n]/F                                        *\n",
      "*Entries :        0 : Total  Size=        580 bytes  One basket in memory    *\n",
      "*Baskets :        0 : Basket Size=     860672 bytes  Compression=   1.00     *\n",
      "*............................................................................*\n",
      "*Br   21 :lep_eta   : lep_eta[lep_n]/F                                       *\n",
      "*Entries :        0 : Total  Size=        584 bytes  One basket in memory    *\n",
      "*Baskets :        0 : Basket Size=     860672 bytes  Compression=   1.00     *\n",
      "*............................................................................*\n",
      "*Br   22 :lep_phi   : lep_phi[lep_n]/F                                       *\n",
      "*Entries :        0 : Total  Size=        584 bytes  One basket in memory    *\n",
      "*Baskets :        0 : Basket Size=     860672 bytes  Compression=   1.00     *\n",
      "*............................................................................*\n",
      "*Br   23 :lep_E     : lep_E[lep_n]/F                                         *\n",
      "*Entries :        0 : Total  Size=        576 bytes  One basket in memory    *\n",
      "*Baskets :        0 : Basket Size=     860672 bytes  Compression=   1.00     *\n",
      "*............................................................................*\n",
      "*Br   24 :lep_z0    : lep_z0[lep_n]/F                                        *\n",
      "*Entries :        0 : Total  Size=        580 bytes  One basket in memory    *\n",
      "*Baskets :        0 : Basket Size=     860672 bytes  Compression=   1.00     *\n",
      "*............................................................................*\n",
      "*Br   25 :lep_charge : lep_charge[lep_n]/F                                   *\n",
      "*Entries :        0 : Total  Size=        596 bytes  One basket in memory    *\n",
      "*Baskets :        0 : Basket Size=     860672 bytes  Compression=   1.00     *\n",
      "*............................................................................*\n",
      "*Br   26 :lep_type  : lep_type[lep_n]/i                                      *\n",
      "*Entries :        0 : Total  Size=        581 bytes  One basket in memory    *\n",
      "*Baskets :        0 : Basket Size=     860672 bytes  Compression=   1.00     *\n",
      "*............................................................................*\n",
      "*Br   27 :lep_flag  : lep_flag[lep_n]/i                                      *\n",
      "*Entries :        0 : Total  Size=        581 bytes  One basket in memory    *\n",
      "*Baskets :        0 : Basket Size=     860672 bytes  Compression=   1.00     *\n",
      "*............................................................................*\n",
      "*Br   28 :lep_ptcone30 : lep_ptcone30[lep_n]/F                               *\n",
      "*Entries :        0 : Total  Size=        604 bytes  One basket in memory    *\n",
      "*Baskets :        0 : Basket Size=     860672 bytes  Compression=   1.00     *\n",
      "*............................................................................*\n",
      "*Br   29 :lep_etcone20 : lep_etcone20[lep_n]/F                               *\n",
      "*Entries :        0 : Total  Size=        604 bytes  One basket in memory    *\n",
      "*Baskets :        0 : Basket Size=     860672 bytes  Compression=   1.00     *\n",
      "*............................................................................*\n",
      "*Br   30 :lep_trackd0pvunbiased : lep_trackd0pvunbiased[lep_n]/F             *\n",
      "*Entries :        0 : Total  Size=        640 bytes  One basket in memory    *\n",
      "*Baskets :        0 : Basket Size=     860672 bytes  Compression=   1.00     *\n",
      "*............................................................................*\n",
      "*Br   31 :lep_tracksigd0pvunbiased : lep_tracksigd0pvunbiased[lep_n]/F       *\n",
      "*Entries :        0 : Total  Size=        652 bytes  One basket in memory    *\n",
      "*Baskets :        0 : Basket Size=     860672 bytes  Compression=   1.00     *\n",
      "*............................................................................*\n",
      "*Br   32 :met_et    : met_et/F                                               *\n",
      "*Entries :        0 : Total  Size=        489 bytes  One basket in memory    *\n",
      "*Baskets :        0 : Basket Size=     860672 bytes  Compression=   1.00     *\n",
      "*............................................................................*\n",
      "*Br   33 :met_phi   : met_phi/F                                              *\n",
      "*Entries :        0 : Total  Size=        493 bytes  One basket in memory    *\n",
      "*Baskets :        0 : Basket Size=     860672 bytes  Compression=   1.00     *\n",
      "*............................................................................*\n",
      "*Br   34 :jet_n     : jet_n/i                                                *\n",
      "*Entries :        0 : Total  Size=        485 bytes  One basket in memory    *\n",
      "*Baskets :        0 : Basket Size=     860672 bytes  Compression=   1.00     *\n",
      "*............................................................................*\n",
      "*Br   35 :alljet_n  : alljet_n/i                                             *\n",
      "*Entries :        0 : Total  Size=        497 bytes  One basket in memory    *\n",
      "*Baskets :        0 : Basket Size=     860672 bytes  Compression=   1.00     *\n",
      "*............................................................................*\n",
      "*Br   36 :jet_pt    : jet_pt[alljet_n]/F                                     *\n",
      "*Entries :        0 : Total  Size=        592 bytes  One basket in memory    *\n",
      "*Baskets :        0 : Basket Size=     860672 bytes  Compression=   1.00     *\n",
      "*............................................................................*\n",
      "*Br   37 :jet_eta   : jet_eta[alljet_n]/F                                    *\n",
      "*Entries :        0 : Total  Size=        596 bytes  One basket in memory    *\n",
      "*Baskets :        0 : Basket Size=     860672 bytes  Compression=   1.00     *\n",
      "*............................................................................*\n",
      "*Br   38 :jet_phi   : jet_phi[alljet_n]/F                                    *\n",
      "*Entries :        0 : Total  Size=        596 bytes  One basket in memory    *\n",
      "*Baskets :        0 : Basket Size=     860672 bytes  Compression=   1.00     *\n",
      "*............................................................................*\n",
      "*Br   39 :jet_E     : jet_E[alljet_n]/F                                      *\n",
      "*Entries :        0 : Total  Size=        588 bytes  One basket in memory    *\n",
      "*Baskets :        0 : Basket Size=     860672 bytes  Compression=   1.00     *\n",
      "*............................................................................*\n",
      "*Br   40 :jet_m     : jet_m[alljet_n]/F                                      *\n",
      "*Entries :        0 : Total  Size=        588 bytes  One basket in memory    *\n",
      "*Baskets :        0 : Basket Size=     860672 bytes  Compression=   1.00     *\n",
      "*............................................................................*\n",
      "*Br   41 :jet_jvf   : jet_jvf[alljet_n]/F                                    *\n",
      "*Entries :        0 : Total  Size=        596 bytes  One basket in memory    *\n",
      "*Baskets :        0 : Basket Size=     860672 bytes  Compression=   1.00     *\n",
      "*............................................................................*\n",
      "*Br   42 :jet_trueflav : jet_trueflav[alljet_n]/I                            *\n",
      "*Entries :        0 : Total  Size=        609 bytes  One basket in memory    *\n",
      "*Baskets :        0 : Basket Size=     860672 bytes  Compression=   1.00     *\n",
      "*............................................................................*\n",
      "*Br   43 :jet_truthMatched : jet_truthMatched[alljet_n]/I                    *\n",
      "*Entries :        0 : Total  Size=        625 bytes  One basket in memory    *\n",
      "*Baskets :        0 : Basket Size=     860672 bytes  Compression=   1.00     *\n",
      "*............................................................................*\n",
      "*Br   44 :jet_SV0   : jet_SV0[alljet_n]/F                                    *\n",
      "*Entries :        0 : Total  Size=        596 bytes  One basket in memory    *\n",
      "*Baskets :        0 : Basket Size=     860672 bytes  Compression=   1.00     *\n",
      "*............................................................................*\n",
      "*Br   45 :jet_MV1   : jet_MV1[alljet_n]/F                                    *\n",
      "*Entries :        0 : Total  Size=        596 bytes  One basket in memory    *\n",
      "*Baskets :        0 : Basket Size=     860672 bytes  Compression=   1.00     *\n",
      "*............................................................................*\n",
      "TFile**\t\tsmaller_py.root\t\n",
      " TFile*\t\tsmaller_py.root\t\n",
      "  OBJ: TTree\tmini\t4-vectors + variables required for scaling factors : 0 at: 0x6342c30\n",
      "  KEY: TTree\tmini;1\t4-vectors + variables required for scaling factors\n"
     ]
    }
   ],
   "source": [
    "# number of events in filtered file\n",
    "nevt_out = 10000\n",
    "from ROOT import TFile, TTree\n",
    "my_random = ROOT.TRandom3()\n",
    "my_file =TFile(\"data/mc_147771.Zmumu.root\",\"READ\")\n",
    "my_tree = my_file.Get(\"mini\")\n",
    "nentries = my_tree.GetEntries()\n",
    "# activate all branches\n",
    "my_tree.SetBranchStatus(\"*\", 1)\n",
    "my_new_file =TFile(\"smaller_py.root\", \"recreate\")\n",
    "newtree = my_tree.CloneTree(0)\n",
    "for i in range(0, nentries):\n",
    "# do something smaller\n",
    "#for i in range(0, nevt_out)\n",
    "    my_tree.GetEntry(i)\n",
    "    # doing something clever\n",
    "    if my_random.Rndm()<(nevt_out/nentries):\n",
    "        newtree.Fill()\n",
    "        \n",
    "\n",
    "newtree.Print()\n",
    "my_new_file.Write()\n",
    "my_new_file.ls()\n"
   ]
  },
  {
   "cell_type": "code",
   "execution_count": null,
   "metadata": {},
   "outputs": [],
   "source": []
  }
 ],
 "metadata": {
  "kernelspec": {
   "display_name": "Python 2",
   "language": "python",
   "name": "python2"
  },
  "language_info": {
   "codemirror_mode": {
    "name": "ipython",
    "version": 2
   },
   "file_extension": ".py",
   "mimetype": "text/x-python",
   "name": "python",
   "nbconvert_exporter": "python",
   "pygments_lexer": "ipython2",
   "version": "2.7.15"
  },
  "toc": {
   "base_numbering": 1,
   "nav_menu": {},
   "number_sections": true,
   "sideBar": true,
   "skip_h1_title": false,
   "title_cell": "Table of Contents",
   "title_sidebar": "Contents",
   "toc_cell": false,
   "toc_position": {},
   "toc_section_display": true,
   "toc_window_display": false
  }
 },
 "nbformat": 4,
 "nbformat_minor": 1
}
